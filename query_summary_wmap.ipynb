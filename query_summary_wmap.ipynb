{
 "cells": [
  {
   "cell_type": "code",
   "execution_count": 1,
   "metadata": {
    "pycharm": {
     "name": "#%%\n"
    },
    "ExecuteTime": {
     "end_time": "2023-09-12T15:04:33.778306Z",
     "start_time": "2023-09-12T15:04:32.272497Z"
    }
   },
   "outputs": [],
   "source": [
    "from sqlalchemy import create_engine\n",
    "import pandas as pd\n",
    "import plotly.graph_objects as go\n",
    "import shared_funcs\n"
   ]
  },
  {
   "cell_type": "code",
   "execution_count": 2,
   "metadata": {
    "pycharm": {
     "name": "#%%\n"
    },
    "ExecuteTime": {
     "end_time": "2023-09-12T15:04:40.019678Z",
     "start_time": "2023-09-12T15:04:40.002834Z"
    }
   },
   "outputs": [],
   "source": [
    "sel_cols = ['year', 'state', 'station_name', 'lat', 'lon', 'ttl_year']\n",
    "convert_dict = {'year': int, 'state': 'string', 'station_name': 'string', 'ttl_year': int}\n"
   ]
  },
  {
   "cell_type": "code",
   "execution_count": 4,
   "metadata": {
    "pycharm": {
     "name": "#%%\n"
    },
    "ExecuteTime": {
     "end_time": "2023-09-12T15:05:52.357464Z",
     "start_time": "2023-09-12T15:05:01.388457Z"
    }
   },
   "outputs": [],
   "source": [
    "url = shared_funcs.database_path()\n",
    "engine = create_engine(url=url)\n",
    "\n",
    "with open('sql/analytics_mapping.sql', 'r') as sql_read:\n",
    "    df = pd.read_sql(sql_read.read(), engine.connect())\n"
   ]
  },
  {
   "cell_type": "code",
   "execution_count": 17,
   "metadata": {
    "pycharm": {
     "name": "#%%\n"
    }
   },
   "outputs": [
    {
     "name": "stdout",
     "output_type": "stream",
     "text": [
      "year                     int64\n",
      "state           string[python]\n",
      "station_name    string[python]\n",
      "lat                    float64\n",
      "lon                    float64\n",
      "ttl_year                 int64\n",
      "text            string[python]\n",
      "dtype: object\n"
     ]
    }
   ],
   "source": [
    "select_year = 2023\n",
    "df = df.astype(convert_dict).query('year==@select_year')\n",
    "df = df[sel_cols].sort_values(by=['ttl_year'], ascending=True)\n",
    "df.reset_index(drop=True, inplace=True)\n",
    "df['text'] = df['station_name'] + '<br>PressureDays ' + (df['ttl_year']).astype(str)\n",
    "print(df.dtypes)\n"
   ]
  },
  {
   "cell_type": "code",
   "execution_count": 19,
   "metadata": {
    "pycharm": {
     "name": "#%%\n"
    }
   },
   "outputs": [
    {
     "data": {
      "text/plain": "     year state                           station_name     lat      lon   \n0    2023    FL     JACKSONVILLE INTERNATIONAL AIRPORT  30.495  -81.694  \\\n1    2023    CA             J. WAYNE APT-ORANGE CO APT  33.680 -117.867   \n2    2023    HI                          LIHUE AIRPORT  21.980 -159.339   \n3    2023    FL            MIAMI INTERNATIONAL AIRPORT  25.788  -80.317   \n4    2023    HI         HONOLULU INTERNATIONAL AIRPORT  21.324 -157.939   \n..    ...   ...                                    ...     ...      ...   \n107  2023    NY      SYRACUSE HANCOCK INTERNATIONAL AP  43.111  -76.104   \n108  2023    NY       BUFFALO NIAGARA INTERNATIONAL AP  42.940  -78.736   \n109  2023    KS            WICHITA EISENHOWER NATIONAL  37.648  -97.430   \n110  2023    CO  CITY OF COLORADO SPRINGS MUNICIPAL AP  38.809 -104.689   \n111  2023    CO           DENVER INTERNATIONAL AIRPORT  39.847 -104.656   \n\n     ttl_year                                               text  \n0           0  JACKSONVILLE INTERNATIONAL AIRPORT<br>Pressure...  \n1           0       J. WAYNE APT-ORANGE CO APT<br>PressureDays 0  \n2           0                    LIHUE AIRPORT<br>PressureDays 0  \n3           0      MIAMI INTERNATIONAL AIRPORT<br>PressureDays 0  \n4           0   HONOLULU INTERNATIONAL AIRPORT<br>PressureDays 0  \n..        ...                                                ...  \n107        49  SYRACUSE HANCOCK INTERNATIONAL AP<br>PressureD...  \n108        49  BUFFALO NIAGARA INTERNATIONAL AP<br>PressureDa...  \n109        50     WICHITA EISENHOWER NATIONAL<br>PressureDays 50  \n110        52  CITY OF COLORADO SPRINGS MUNICIPAL AP<br>Press...  \n111        56    DENVER INTERNATIONAL AIRPORT<br>PressureDays 56  \n\n[112 rows x 7 columns]",
      "text/html": "<div>\n<style scoped>\n    .dataframe tbody tr th:only-of-type {\n        vertical-align: middle;\n    }\n\n    .dataframe tbody tr th {\n        vertical-align: top;\n    }\n\n    .dataframe thead th {\n        text-align: right;\n    }\n</style>\n<table border=\"1\" class=\"dataframe\">\n  <thead>\n    <tr style=\"text-align: right;\">\n      <th></th>\n      <th>year</th>\n      <th>state</th>\n      <th>station_name</th>\n      <th>lat</th>\n      <th>lon</th>\n      <th>ttl_year</th>\n      <th>text</th>\n    </tr>\n  </thead>\n  <tbody>\n    <tr>\n      <th>0</th>\n      <td>2023</td>\n      <td>FL</td>\n      <td>JACKSONVILLE INTERNATIONAL AIRPORT</td>\n      <td>30.495</td>\n      <td>-81.694</td>\n      <td>0</td>\n      <td>JACKSONVILLE INTERNATIONAL AIRPORT&lt;br&gt;Pressure...</td>\n    </tr>\n    <tr>\n      <th>1</th>\n      <td>2023</td>\n      <td>CA</td>\n      <td>J. WAYNE APT-ORANGE CO APT</td>\n      <td>33.680</td>\n      <td>-117.867</td>\n      <td>0</td>\n      <td>J. WAYNE APT-ORANGE CO APT&lt;br&gt;PressureDays 0</td>\n    </tr>\n    <tr>\n      <th>2</th>\n      <td>2023</td>\n      <td>HI</td>\n      <td>LIHUE AIRPORT</td>\n      <td>21.980</td>\n      <td>-159.339</td>\n      <td>0</td>\n      <td>LIHUE AIRPORT&lt;br&gt;PressureDays 0</td>\n    </tr>\n    <tr>\n      <th>3</th>\n      <td>2023</td>\n      <td>FL</td>\n      <td>MIAMI INTERNATIONAL AIRPORT</td>\n      <td>25.788</td>\n      <td>-80.317</td>\n      <td>0</td>\n      <td>MIAMI INTERNATIONAL AIRPORT&lt;br&gt;PressureDays 0</td>\n    </tr>\n    <tr>\n      <th>4</th>\n      <td>2023</td>\n      <td>HI</td>\n      <td>HONOLULU INTERNATIONAL AIRPORT</td>\n      <td>21.324</td>\n      <td>-157.939</td>\n      <td>0</td>\n      <td>HONOLULU INTERNATIONAL AIRPORT&lt;br&gt;PressureDays 0</td>\n    </tr>\n    <tr>\n      <th>...</th>\n      <td>...</td>\n      <td>...</td>\n      <td>...</td>\n      <td>...</td>\n      <td>...</td>\n      <td>...</td>\n      <td>...</td>\n    </tr>\n    <tr>\n      <th>107</th>\n      <td>2023</td>\n      <td>NY</td>\n      <td>SYRACUSE HANCOCK INTERNATIONAL AP</td>\n      <td>43.111</td>\n      <td>-76.104</td>\n      <td>49</td>\n      <td>SYRACUSE HANCOCK INTERNATIONAL AP&lt;br&gt;PressureD...</td>\n    </tr>\n    <tr>\n      <th>108</th>\n      <td>2023</td>\n      <td>NY</td>\n      <td>BUFFALO NIAGARA INTERNATIONAL AP</td>\n      <td>42.940</td>\n      <td>-78.736</td>\n      <td>49</td>\n      <td>BUFFALO NIAGARA INTERNATIONAL AP&lt;br&gt;PressureDa...</td>\n    </tr>\n    <tr>\n      <th>109</th>\n      <td>2023</td>\n      <td>KS</td>\n      <td>WICHITA EISENHOWER NATIONAL</td>\n      <td>37.648</td>\n      <td>-97.430</td>\n      <td>50</td>\n      <td>WICHITA EISENHOWER NATIONAL&lt;br&gt;PressureDays 50</td>\n    </tr>\n    <tr>\n      <th>110</th>\n      <td>2023</td>\n      <td>CO</td>\n      <td>CITY OF COLORADO SPRINGS MUNICIPAL AP</td>\n      <td>38.809</td>\n      <td>-104.689</td>\n      <td>52</td>\n      <td>CITY OF COLORADO SPRINGS MUNICIPAL AP&lt;br&gt;Press...</td>\n    </tr>\n    <tr>\n      <th>111</th>\n      <td>2023</td>\n      <td>CO</td>\n      <td>DENVER INTERNATIONAL AIRPORT</td>\n      <td>39.847</td>\n      <td>-104.656</td>\n      <td>56</td>\n      <td>DENVER INTERNATIONAL AIRPORT&lt;br&gt;PressureDays 56</td>\n    </tr>\n  </tbody>\n</table>\n<p>112 rows × 7 columns</p>\n</div>"
     },
     "execution_count": 19,
     "metadata": {},
     "output_type": "execute_result"
    }
   ],
   "source": [
    "df[:120]\n"
   ]
  },
  {
   "cell_type": "code",
   "execution_count": 20,
   "metadata": {
    "pycharm": {
     "name": "#%%\n"
    }
   },
   "outputs": [
    {
     "data": {
      "application/vnd.plotly.v1+json": {
       "data": [
        {
         "lat": [
          30.495,
          33.68,
          21.98,
          25.788,
          21.324,
          20.889,
          26.079,
          33.938,
          28.418,
          27.963,
          32.734,
          34.053,
          30.412,
          34.424,
          29.998,
          30.476,
          32.131,
          32.899,
          36.78,
          33.63,
          32.132,
          33.565,
          33.428,
          37.62,
          32.32,
          34.644,
          34.267,
          36.072,
          38.701,
          34.917
         ],
         "locationmode": "USA-states",
         "lon": [
          -81.694,
          -117.867,
          -159.339,
          -80.317,
          -157.939,
          -156.435,
          -80.162,
          -118.387,
          -81.324,
          -82.54,
          -117.183,
          -117.577,
          -89.081,
          -119.842,
          -90.278,
          -87.186,
          -81.202,
          -80.041,
          -119.72,
          -84.442,
          -110.956,
          -86.745,
          -112.004,
          -122.366,
          -90.078,
          -86.786,
          -77.9,
          -115.163,
          -121.595,
          -92.15
         ],
         "marker": {
          "color": "olive",
          "line": {
           "color": "rgb(40,40,40)",
           "width": 0.5
          },
          "size": [
           0,
           0,
           0,
           0,
           0,
           0,
           1,
           1,
           1,
           1,
           1,
           2,
           2,
           2,
           3,
           3,
           3,
           5,
           5,
           7,
           8,
           8,
           10,
           10,
           11,
           11,
           11,
           11,
           12,
           12
          ],
          "sizemode": "area"
         },
         "name": "0 - 30",
         "text": [
          "JACKSONVILLE INTERNATIONAL AIRPORT<br>PressureDays 0",
          "J. WAYNE APT-ORANGE CO APT<br>PressureDays 0",
          "LIHUE AIRPORT<br>PressureDays 0",
          "MIAMI INTERNATIONAL AIRPORT<br>PressureDays 0",
          "HONOLULU INTERNATIONAL AIRPORT<br>PressureDays 0",
          "KAHULUI AIRPORT<br>PressureDays 0",
          "FT LAUD/HOLLYWOOD INTL APT<br>PressureDays 1",
          "LOS ANGELES INTERNATIONAL AIRPORT<br>PressureDays 1",
          "ORLANDO INTERNATIONAL AIRPORT<br>PressureDays 1",
          "TAMPA INTERNATIONAL AIRPORT<br>PressureDays 1",
          "SAN DIEGO INTERNATIONAL AIRPORT<br>PressureDays 1",
          "ONTARIO INTERNATIONAL ARPT<br>PressureDays 2",
          "GULFPORT-BILOXI INTL ARPT<br>PressureDays 2",
          "SANTA BARBARA MUNICIPAL AIRPORT<br>PressureDays 2",
          "LOUIS ARMSTRONG NEW ORLEANS INTL AP<br>PressureDays 3",
          "PENSACOLA REGIONAL AIRPORT<br>PressureDays 3",
          "SAVANNAH/HILTON HEAD INTL AIRPORT<br>PressureDays 3",
          "CHARLESTON AFB/INTERNATIONAL AIRPORT<br>PressureDays 5",
          "FRESNO YOSEMITE INTERNATIONAL AIRPORT<br>PressureDays 5",
          "HARTSFIELD-JACKSON ATLANTA INTL AP<br>PressureDays 7",
          "TUCSON INTERNATIONAL AIRPORT<br>PressureDays 8",
          "BIRMINGHAM INTERNATIONAL AIRPORT<br>PressureDays 8",
          "PHOENIX SKY HARBOR INTL AIRPORT<br>PressureDays 10",
          "SAN FRANCISCO INTERNATIONAL AIRPORT<br>PressureDays 10",
          "JACKSON INTERNATIONAL AIRPORT<br>PressureDays 11",
          "HUNTSVILLE INTL/C.T.JONES FIELD AIRPORT<br>PressureDays 11",
          "WILMINGTON INTERNATIONAL AIRPORT<br>PressureDays 11",
          "MCCARRAN INTERNATIONAL AIRPORT<br>PressureDays 11",
          "SACRAMENTO INTL AIRPORT<br>PressureDays 12",
          "LITTLE ROCK AFB AIRPORT<br>PressureDays 12"
         ],
         "type": "scattergeo"
        },
        {
         "lat": [
          47.622,
          29.984,
          34.906,
          43.567,
          29.544,
          35.056,
          35.223,
          47.445,
          36.111,
          30.183,
          44.133,
          45.596,
          58.354,
          35.892,
          39.508,
          45.807,
          36.097,
          31.812,
          40.771,
          38.177,
          38.817,
          46.844,
          32.897,
          42.898,
          46.924,
          39.725,
          61.169,
          64.803,
          39.906,
          37.132
         ],
         "locationmode": "USA-states",
         "lon": [
          -117.528,
          -95.361,
          -82.213,
          -116.241,
          -98.484,
          -89.986,
          -80.954,
          -122.314,
          -86.688,
          -97.68,
          -123.216,
          -122.609,
          -134.556,
          -78.782,
          -119.768,
          -108.546,
          -79.943,
          -106.377,
          -111.965,
          -85.731,
          -76.867,
          -92.187,
          -97.022,
          -106.474,
          -96.812,
          -86.282,
          -150.028,
          -147.876,
          -84.219,
          -76.494
         ],
         "marker": {
          "color": "green",
          "line": {
           "color": "rgb(40,40,40)",
           "width": 0.5
          },
          "size": [
           12,
           12,
           14,
           15,
           16,
           16,
           17,
           18,
           18,
           19,
           20,
           20,
           22,
           22,
           22,
           22,
           23,
           23,
           24,
           25,
           25,
           25,
           27,
           27,
           29,
           29,
           29,
           29,
           29,
           29
          ],
          "sizemode": "area"
         },
         "name": "30 - 60",
         "text": [
          "SPOKANE INTERNATIONAL AIRPORT<br>PressureDays 12",
          "G BUSH INTERCONTINENTAL AP/HOUSTON AP<br>PressureDays 12",
          "GREENVILLE-SPARTANBURG INTL AIRPORT<br>PressureDays 14",
          "BOISE AIR TERMINAL/GOWEN FD AIRPORT<br>PressureDays 15",
          "SAN ANTONIO INTERNATIONAL AIRPORT<br>PressureDays 16",
          "MEMPHIS INTERNATIONAL AIRPORT<br>PressureDays 16",
          "CHARLOTTE/DOUGLAS INTERNATIONAL AP<br>PressureDays 17",
          "SEATTLE-TACOMA INTERNATIONAL AIRPORT<br>PressureDays 18",
          "NASHVILLE INTERNATIONAL AIRPORT<br>PressureDays 18",
          "AUSTIN-BERGSTROM INTL AIRPORT<br>PressureDays 19",
          "MAHLON SWEET FIELD AIRPORT<br>PressureDays 20",
          "PORTLAND INTERNATIONAL AIRPORT<br>PressureDays 20",
          "JUNEAU INTERNATIONAL<br>PressureDays 22",
          "RALEIGH-DURHAM INTERNATIONAL AP<br>PressureDays 22",
          "RENO/TAHOE INTERNATIONAL AIRPORT<br>PressureDays 22",
          "BILLINGS LOGAN INTERNATIONAL AIRPORT<br>PressureDays 22",
          "PIEDMONT TRIAD INTERNATIONAL AIRPORT<br>PressureDays 23",
          "EL PASO INTERNATIONAL AIRPORT<br>PressureDays 23",
          "SALT LAKE CITY INTERNATIONAL AIRPORT<br>PressureDays 24",
          "LOUISVILLE INTL-STANDIFORD FIELD AP<br>PressureDays 25",
          "ANDREWS AIR FORCE BASE AIRPORT<br>PressureDays 25",
          "DULUTH INTERNATIONAL AIRPORT<br>PressureDays 25",
          "DALLAS/FT WORTH INTERNATIONAL AP<br>PressureDays 27",
          "NATRONA COUNTY INTERNATIONAL AP<br>PressureDays 27",
          "HECTOR INTERNATIONAL AIRPORT<br>PressureDays 29",
          "INDIANAPOLIS INTERNATIONAL AIRPORT<br>PressureDays 29",
          "TED STEVENS ANCHORAGE INTL<br>PressureDays 29",
          "FAIRBANKS INTERNATIONAL<br>PressureDays 29",
          "J.M.COX DAYTON INTERNATIONAL AIRPORT<br>PressureDays 29",
          "NWPT NEWS/WIMBURG INTL APT<br>PressureDays 29"
         ],
         "type": "scattergeo"
        },
        {
         "lat": [
          41.883,
          45.788,
          39.991,
          39.044,
          38.137,
          36.904,
          38.935,
          35.388,
          44.885,
          43.578,
          38.752,
          39.845,
          41.534,
          39.173,
          36.199,
          42.955,
          40.277,
          40.196,
          39.873,
          44.48
         ],
         "locationmode": "USA-states",
         "lon": [
          -91.725,
          -111.162,
          -82.877,
          -84.672,
          -78.455,
          -76.193,
          -77.447,
          -97.6,
          -93.231,
          -96.754,
          -90.373,
          -89.684,
          -93.653,
          -76.684,
          -95.878,
          -87.905,
          -74.816,
          -76.772,
          -75.227,
          -88.137
         ],
         "marker": {
          "color": "yellow",
          "line": {
           "color": "rgb(40,40,40)",
           "width": 0.5
          },
          "size": [
           31,
           31,
           32,
           32,
           32,
           32,
           32,
           32,
           33,
           33,
           34,
           34,
           35,
           36,
           36,
           37,
           37,
           37,
           37,
           37
          ],
          "sizemode": "area"
         },
         "name": "60 - 80",
         "text": [
          "EASTERN IOWA REGIONAL AIRPORT<br>PressureDays 31",
          "GALLATIN FIELD AIRPORT<br>PressureDays 31",
          "PORT COLUMBUS INTERNATIONAL AIRPORT<br>PressureDays 32",
          "CINCINNATI/NORTHERN KENTUCKY INTL AP<br>PressureDays 32",
          "CHARLOTTESVILLE ALBEMARLE ARPT<br>PressureDays 32",
          "NORFOLK INTERNATIONAL AIRPORT<br>PressureDays 32",
          "WASHINGTON DULLES INTERNATIONAL AP<br>PressureDays 32",
          "WILL ROGERS WORLD AIRPORT<br>PressureDays 32",
          "MINNEAPOLIS-ST PAUL INTERNATIONAL AP<br>PressureDays 33",
          "JOE FOSS FIELD AIRPORT<br>PressureDays 33",
          "LAMBERT-ST LOUIS INTERNATIONAL AP<br>PressureDays 34",
          "ABRAHAM LINCOLN CAPITAL AIRPORT<br>PressureDays 34",
          "DES MOINES INTERNATIONAL AIRPORT<br>PressureDays 35",
          "BALTIMORE-WASHINGTON INTL AIRPORT<br>PressureDays 36",
          "TULSA INTERNATIONAL AIRPORT<br>PressureDays 36",
          "GENERAL MITCHELL INTERNATIONAL AP<br>PressureDays 37",
          "TRENTON MERCER AIRPORT<br>PressureDays 37",
          "HARRISBURG INTERNATIONAL AIRPORT<br>PressureDays 37",
          "PHILADELPHIA INTERNATIONAL AIRPORT<br>PressureDays 37",
          "AUSTIN STRAUBEL INTERNATIONAL AP<br>PressureDays 37"
         ],
         "type": "scattergeo"
        },
        {
         "lat": [
          40.485,
          38.38,
          40.972,
          37.512,
          39.297,
          38.847,
          32.447,
          41.312,
          39.452,
          41.937,
          42.93,
          35.042,
          40.848,
          42.747,
          40.639,
          41.96,
          41.784,
          42.882,
          41.406,
          42.231
         ],
         "locationmode": "USA-states",
         "lon": [
          -80.214,
          -81.591,
          -85.206,
          -77.323,
          -94.731,
          -77.035,
          -93.824,
          -95.902,
          -74.567,
          -72.682,
          -71.436,
          -106.615,
          -96.765,
          -73.799,
          -73.764,
          -87.932,
          -87.755,
          -85.523,
          -81.852,
          -83.331
         ],
         "marker": {
          "color": "blue",
          "line": {
           "color": "rgb(40,40,40)",
           "width": 0.5
          },
          "size": [
           37,
           37,
           37,
           37,
           38,
           38,
           38,
           39,
           39,
           39,
           39,
           39,
           39,
           40,
           40,
           40,
           40,
           41,
           41,
           42
          ],
          "sizemode": "area"
         },
         "name": "80 - 100",
         "text": [
          "PITTSBURGH INTERNATIONAL AIRPORT<br>PressureDays 37",
          "YEAGER AIRPORT<br>PressureDays 37",
          "FORT WAYNE INTERNATIONAL AIRPORT<br>PressureDays 37",
          "RICHMOND INTERNATIONAL AIRPORT<br>PressureDays 37",
          "KANSAS CITY INTERNATIONAL AIRPORT<br>PressureDays 38",
          "RONALD REAGAN WASHINGTON NATL AP<br>PressureDays 38",
          "SHREVEPORT REGIONAL AIRPORT<br>PressureDays 38",
          "EPPLEY AIRFIELD AIRPORT<br>PressureDays 39",
          "ATLANTIC CITY INTERNATIONAL AIRPORT<br>PressureDays 39",
          "BRADLEY INTERNATIONAL AIRPORT<br>PressureDays 39",
          "MANCHESTER AIRPORT<br>PressureDays 39",
          "ALBUQUERQUE INTL SUNPORT AIRPORT<br>PressureDays 39",
          "LINCOLN MUNICIPAL AIRPORT<br>PressureDays 39",
          "ALBANY INTERNATIONAL AIRPORT<br>PressureDays 40",
          "JOHN F KENNEDY INTERNATIONAL AIRPORT<br>PressureDays 40",
          "CHICAGO O'HARE INTERNATIONAL AIRPORT<br>PressureDays 40",
          "CHICAGO MIDWAY INTL ARPT<br>PressureDays 40",
          "GERALD R FORD INTERNATIONAL AIRPORT<br>PressureDays 41",
          "CLEVELAND-HOPKINS INTERNATIONAL AP<br>PressureDays 41",
          "DETROIT METRO WAYNE COUNTY AIRPORT<br>PressureDays 42"
         ],
         "type": "scattergeo"
        },
        {
         "lat": [
          41.723,
          40.779,
          44.468,
          40.683,
          43.642,
          42.361,
          43.117,
          43.111,
          42.94,
          37.648,
          38.809,
          39.847
         ],
         "locationmode": "USA-states",
         "lon": [
          -71.432,
          -73.88,
          -73.15,
          -74.169,
          -70.304,
          -71.01,
          -77.675,
          -76.104,
          -78.736,
          -97.43,
          -104.689,
          -104.656
         ],
         "marker": {
          "color": "red",
          "line": {
           "color": "rgb(40,40,40)",
           "width": 0.5
          },
          "size": [
           42,
           42,
           43,
           43,
           44,
           47,
           47,
           49,
           49,
           50,
           52,
           56
          ],
          "sizemode": "area"
         },
         "name": "100 - 120",
         "text": [
          "THEODORE F GREEN STATE AIRPORT<br>PressureDays 42",
          "LA GUARDIA AIRPORT<br>PressureDays 42",
          "BURLINGTON INTERNATIONAL AIRPORT<br>PressureDays 43",
          "NEWARK LIBERTY INTERNATIONAL AP<br>PressureDays 43",
          "PORTLAND INTERNATIONAL JETPORT AP<br>PressureDays 44",
          "GEN E L LOGAN INTERNATIONAL AIRPORT<br>PressureDays 47",
          "GREATER ROCHESTER INTERNATIONAL AP<br>PressureDays 47",
          "SYRACUSE HANCOCK INTERNATIONAL AP<br>PressureDays 49",
          "BUFFALO NIAGARA INTERNATIONAL AP<br>PressureDays 49",
          "WICHITA EISENHOWER NATIONAL<br>PressureDays 50",
          "CITY OF COLORADO SPRINGS MUNICIPAL AP<br>PressureDays 52",
          "DENVER INTERNATIONAL AIRPORT<br>PressureDays 56"
         ],
         "type": "scattergeo"
        }
       ],
       "layout": {
        "template": {
         "data": {
          "histogram2dcontour": [
           {
            "type": "histogram2dcontour",
            "colorbar": {
             "outlinewidth": 0,
             "ticks": ""
            },
            "colorscale": [
             [
              0.0,
              "#0d0887"
             ],
             [
              0.1111111111111111,
              "#46039f"
             ],
             [
              0.2222222222222222,
              "#7201a8"
             ],
             [
              0.3333333333333333,
              "#9c179e"
             ],
             [
              0.4444444444444444,
              "#bd3786"
             ],
             [
              0.5555555555555556,
              "#d8576b"
             ],
             [
              0.6666666666666666,
              "#ed7953"
             ],
             [
              0.7777777777777778,
              "#fb9f3a"
             ],
             [
              0.8888888888888888,
              "#fdca26"
             ],
             [
              1.0,
              "#f0f921"
             ]
            ]
           }
          ],
          "choropleth": [
           {
            "type": "choropleth",
            "colorbar": {
             "outlinewidth": 0,
             "ticks": ""
            }
           }
          ],
          "histogram2d": [
           {
            "type": "histogram2d",
            "colorbar": {
             "outlinewidth": 0,
             "ticks": ""
            },
            "colorscale": [
             [
              0.0,
              "#0d0887"
             ],
             [
              0.1111111111111111,
              "#46039f"
             ],
             [
              0.2222222222222222,
              "#7201a8"
             ],
             [
              0.3333333333333333,
              "#9c179e"
             ],
             [
              0.4444444444444444,
              "#bd3786"
             ],
             [
              0.5555555555555556,
              "#d8576b"
             ],
             [
              0.6666666666666666,
              "#ed7953"
             ],
             [
              0.7777777777777778,
              "#fb9f3a"
             ],
             [
              0.8888888888888888,
              "#fdca26"
             ],
             [
              1.0,
              "#f0f921"
             ]
            ]
           }
          ],
          "heatmap": [
           {
            "type": "heatmap",
            "colorbar": {
             "outlinewidth": 0,
             "ticks": ""
            },
            "colorscale": [
             [
              0.0,
              "#0d0887"
             ],
             [
              0.1111111111111111,
              "#46039f"
             ],
             [
              0.2222222222222222,
              "#7201a8"
             ],
             [
              0.3333333333333333,
              "#9c179e"
             ],
             [
              0.4444444444444444,
              "#bd3786"
             ],
             [
              0.5555555555555556,
              "#d8576b"
             ],
             [
              0.6666666666666666,
              "#ed7953"
             ],
             [
              0.7777777777777778,
              "#fb9f3a"
             ],
             [
              0.8888888888888888,
              "#fdca26"
             ],
             [
              1.0,
              "#f0f921"
             ]
            ]
           }
          ],
          "heatmapgl": [
           {
            "type": "heatmapgl",
            "colorbar": {
             "outlinewidth": 0,
             "ticks": ""
            },
            "colorscale": [
             [
              0.0,
              "#0d0887"
             ],
             [
              0.1111111111111111,
              "#46039f"
             ],
             [
              0.2222222222222222,
              "#7201a8"
             ],
             [
              0.3333333333333333,
              "#9c179e"
             ],
             [
              0.4444444444444444,
              "#bd3786"
             ],
             [
              0.5555555555555556,
              "#d8576b"
             ],
             [
              0.6666666666666666,
              "#ed7953"
             ],
             [
              0.7777777777777778,
              "#fb9f3a"
             ],
             [
              0.8888888888888888,
              "#fdca26"
             ],
             [
              1.0,
              "#f0f921"
             ]
            ]
           }
          ],
          "contourcarpet": [
           {
            "type": "contourcarpet",
            "colorbar": {
             "outlinewidth": 0,
             "ticks": ""
            }
           }
          ],
          "contour": [
           {
            "type": "contour",
            "colorbar": {
             "outlinewidth": 0,
             "ticks": ""
            },
            "colorscale": [
             [
              0.0,
              "#0d0887"
             ],
             [
              0.1111111111111111,
              "#46039f"
             ],
             [
              0.2222222222222222,
              "#7201a8"
             ],
             [
              0.3333333333333333,
              "#9c179e"
             ],
             [
              0.4444444444444444,
              "#bd3786"
             ],
             [
              0.5555555555555556,
              "#d8576b"
             ],
             [
              0.6666666666666666,
              "#ed7953"
             ],
             [
              0.7777777777777778,
              "#fb9f3a"
             ],
             [
              0.8888888888888888,
              "#fdca26"
             ],
             [
              1.0,
              "#f0f921"
             ]
            ]
           }
          ],
          "surface": [
           {
            "type": "surface",
            "colorbar": {
             "outlinewidth": 0,
             "ticks": ""
            },
            "colorscale": [
             [
              0.0,
              "#0d0887"
             ],
             [
              0.1111111111111111,
              "#46039f"
             ],
             [
              0.2222222222222222,
              "#7201a8"
             ],
             [
              0.3333333333333333,
              "#9c179e"
             ],
             [
              0.4444444444444444,
              "#bd3786"
             ],
             [
              0.5555555555555556,
              "#d8576b"
             ],
             [
              0.6666666666666666,
              "#ed7953"
             ],
             [
              0.7777777777777778,
              "#fb9f3a"
             ],
             [
              0.8888888888888888,
              "#fdca26"
             ],
             [
              1.0,
              "#f0f921"
             ]
            ]
           }
          ],
          "mesh3d": [
           {
            "type": "mesh3d",
            "colorbar": {
             "outlinewidth": 0,
             "ticks": ""
            }
           }
          ],
          "scatter": [
           {
            "fillpattern": {
             "fillmode": "overlay",
             "size": 10,
             "solidity": 0.2
            },
            "type": "scatter"
           }
          ],
          "parcoords": [
           {
            "type": "parcoords",
            "line": {
             "colorbar": {
              "outlinewidth": 0,
              "ticks": ""
             }
            }
           }
          ],
          "scatterpolargl": [
           {
            "type": "scatterpolargl",
            "marker": {
             "colorbar": {
              "outlinewidth": 0,
              "ticks": ""
             }
            }
           }
          ],
          "bar": [
           {
            "error_x": {
             "color": "#2a3f5f"
            },
            "error_y": {
             "color": "#2a3f5f"
            },
            "marker": {
             "line": {
              "color": "#E5ECF6",
              "width": 0.5
             },
             "pattern": {
              "fillmode": "overlay",
              "size": 10,
              "solidity": 0.2
             }
            },
            "type": "bar"
           }
          ],
          "scattergeo": [
           {
            "type": "scattergeo",
            "marker": {
             "colorbar": {
              "outlinewidth": 0,
              "ticks": ""
             }
            }
           }
          ],
          "scatterpolar": [
           {
            "type": "scatterpolar",
            "marker": {
             "colorbar": {
              "outlinewidth": 0,
              "ticks": ""
             }
            }
           }
          ],
          "histogram": [
           {
            "marker": {
             "pattern": {
              "fillmode": "overlay",
              "size": 10,
              "solidity": 0.2
             }
            },
            "type": "histogram"
           }
          ],
          "scattergl": [
           {
            "type": "scattergl",
            "marker": {
             "colorbar": {
              "outlinewidth": 0,
              "ticks": ""
             }
            }
           }
          ],
          "scatter3d": [
           {
            "type": "scatter3d",
            "line": {
             "colorbar": {
              "outlinewidth": 0,
              "ticks": ""
             }
            },
            "marker": {
             "colorbar": {
              "outlinewidth": 0,
              "ticks": ""
             }
            }
           }
          ],
          "scattermapbox": [
           {
            "type": "scattermapbox",
            "marker": {
             "colorbar": {
              "outlinewidth": 0,
              "ticks": ""
             }
            }
           }
          ],
          "scatterternary": [
           {
            "type": "scatterternary",
            "marker": {
             "colorbar": {
              "outlinewidth": 0,
              "ticks": ""
             }
            }
           }
          ],
          "scattercarpet": [
           {
            "type": "scattercarpet",
            "marker": {
             "colorbar": {
              "outlinewidth": 0,
              "ticks": ""
             }
            }
           }
          ],
          "carpet": [
           {
            "aaxis": {
             "endlinecolor": "#2a3f5f",
             "gridcolor": "white",
             "linecolor": "white",
             "minorgridcolor": "white",
             "startlinecolor": "#2a3f5f"
            },
            "baxis": {
             "endlinecolor": "#2a3f5f",
             "gridcolor": "white",
             "linecolor": "white",
             "minorgridcolor": "white",
             "startlinecolor": "#2a3f5f"
            },
            "type": "carpet"
           }
          ],
          "table": [
           {
            "cells": {
             "fill": {
              "color": "#EBF0F8"
             },
             "line": {
              "color": "white"
             }
            },
            "header": {
             "fill": {
              "color": "#C8D4E3"
             },
             "line": {
              "color": "white"
             }
            },
            "type": "table"
           }
          ],
          "barpolar": [
           {
            "marker": {
             "line": {
              "color": "#E5ECF6",
              "width": 0.5
             },
             "pattern": {
              "fillmode": "overlay",
              "size": 10,
              "solidity": 0.2
             }
            },
            "type": "barpolar"
           }
          ],
          "pie": [
           {
            "automargin": true,
            "type": "pie"
           }
          ]
         },
         "layout": {
          "autotypenumbers": "strict",
          "colorway": [
           "#636efa",
           "#EF553B",
           "#00cc96",
           "#ab63fa",
           "#FFA15A",
           "#19d3f3",
           "#FF6692",
           "#B6E880",
           "#FF97FF",
           "#FECB52"
          ],
          "font": {
           "color": "#2a3f5f"
          },
          "hovermode": "closest",
          "hoverlabel": {
           "align": "left"
          },
          "paper_bgcolor": "white",
          "plot_bgcolor": "#E5ECF6",
          "polar": {
           "bgcolor": "#E5ECF6",
           "angularaxis": {
            "gridcolor": "white",
            "linecolor": "white",
            "ticks": ""
           },
           "radialaxis": {
            "gridcolor": "white",
            "linecolor": "white",
            "ticks": ""
           }
          },
          "ternary": {
           "bgcolor": "#E5ECF6",
           "aaxis": {
            "gridcolor": "white",
            "linecolor": "white",
            "ticks": ""
           },
           "baxis": {
            "gridcolor": "white",
            "linecolor": "white",
            "ticks": ""
           },
           "caxis": {
            "gridcolor": "white",
            "linecolor": "white",
            "ticks": ""
           }
          },
          "coloraxis": {
           "colorbar": {
            "outlinewidth": 0,
            "ticks": ""
           }
          },
          "colorscale": {
           "sequential": [
            [
             0.0,
             "#0d0887"
            ],
            [
             0.1111111111111111,
             "#46039f"
            ],
            [
             0.2222222222222222,
             "#7201a8"
            ],
            [
             0.3333333333333333,
             "#9c179e"
            ],
            [
             0.4444444444444444,
             "#bd3786"
            ],
            [
             0.5555555555555556,
             "#d8576b"
            ],
            [
             0.6666666666666666,
             "#ed7953"
            ],
            [
             0.7777777777777778,
             "#fb9f3a"
            ],
            [
             0.8888888888888888,
             "#fdca26"
            ],
            [
             1.0,
             "#f0f921"
            ]
           ],
           "sequentialminus": [
            [
             0.0,
             "#0d0887"
            ],
            [
             0.1111111111111111,
             "#46039f"
            ],
            [
             0.2222222222222222,
             "#7201a8"
            ],
            [
             0.3333333333333333,
             "#9c179e"
            ],
            [
             0.4444444444444444,
             "#bd3786"
            ],
            [
             0.5555555555555556,
             "#d8576b"
            ],
            [
             0.6666666666666666,
             "#ed7953"
            ],
            [
             0.7777777777777778,
             "#fb9f3a"
            ],
            [
             0.8888888888888888,
             "#fdca26"
            ],
            [
             1.0,
             "#f0f921"
            ]
           ],
           "diverging": [
            [
             0,
             "#8e0152"
            ],
            [
             0.1,
             "#c51b7d"
            ],
            [
             0.2,
             "#de77ae"
            ],
            [
             0.3,
             "#f1b6da"
            ],
            [
             0.4,
             "#fde0ef"
            ],
            [
             0.5,
             "#f7f7f7"
            ],
            [
             0.6,
             "#e6f5d0"
            ],
            [
             0.7,
             "#b8e186"
            ],
            [
             0.8,
             "#7fbc41"
            ],
            [
             0.9,
             "#4d9221"
            ],
            [
             1,
             "#276419"
            ]
           ]
          },
          "xaxis": {
           "gridcolor": "white",
           "linecolor": "white",
           "ticks": "",
           "title": {
            "standoff": 15
           },
           "zerolinecolor": "white",
           "automargin": true,
           "zerolinewidth": 2
          },
          "yaxis": {
           "gridcolor": "white",
           "linecolor": "white",
           "ticks": "",
           "title": {
            "standoff": 15
           },
           "zerolinecolor": "white",
           "automargin": true,
           "zerolinewidth": 2
          },
          "scene": {
           "xaxis": {
            "backgroundcolor": "#E5ECF6",
            "gridcolor": "white",
            "linecolor": "white",
            "showbackground": true,
            "ticks": "",
            "zerolinecolor": "white",
            "gridwidth": 2
           },
           "yaxis": {
            "backgroundcolor": "#E5ECF6",
            "gridcolor": "white",
            "linecolor": "white",
            "showbackground": true,
            "ticks": "",
            "zerolinecolor": "white",
            "gridwidth": 2
           },
           "zaxis": {
            "backgroundcolor": "#E5ECF6",
            "gridcolor": "white",
            "linecolor": "white",
            "showbackground": true,
            "ticks": "",
            "zerolinecolor": "white",
            "gridwidth": 2
           }
          },
          "shapedefaults": {
           "line": {
            "color": "#2a3f5f"
           }
          },
          "annotationdefaults": {
           "arrowcolor": "#2a3f5f",
           "arrowhead": 0,
           "arrowwidth": 1
          },
          "geo": {
           "bgcolor": "white",
           "landcolor": "#E5ECF6",
           "subunitcolor": "white",
           "showland": true,
           "showlakes": true,
           "lakecolor": "white"
          },
          "title": {
           "x": 0.05
          },
          "mapbox": {
           "style": "light"
          }
         }
        },
        "title": {
         "text": "2023 US City Pressure Days<br>(Click legend to toggle traces)"
        },
        "geo": {
         "scope": "usa",
         "landcolor": "rgb(217, 217, 217)"
        },
        "showlegend": true
       },
       "config": {
        "plotlyServerURL": "https://plot.ly"
       }
      },
      "text/html": "<div>                            <div id=\"590df279-6ebc-4805-9a76-2c1b3866c601\" class=\"plotly-graph-div\" style=\"height:525px; width:100%;\"></div>            <script type=\"text/javascript\">                require([\"plotly\"], function(Plotly) {                    window.PLOTLYENV=window.PLOTLYENV || {};                                    if (document.getElementById(\"590df279-6ebc-4805-9a76-2c1b3866c601\")) {                    Plotly.newPlot(                        \"590df279-6ebc-4805-9a76-2c1b3866c601\",                        [{\"lat\":[30.495,33.68,21.98,25.788,21.324,20.889,26.079,33.938,28.418,27.963,32.734,34.053,30.412,34.424,29.998,30.476,32.131,32.899,36.78,33.63,32.132,33.565,33.428,37.62,32.32,34.644,34.267,36.072,38.701,34.917],\"locationmode\":\"USA-states\",\"lon\":[-81.694,-117.867,-159.339,-80.317,-157.939,-156.435,-80.162,-118.387,-81.324,-82.54,-117.183,-117.577,-89.081,-119.842,-90.278,-87.186,-81.202,-80.041,-119.72,-84.442,-110.956,-86.745,-112.004,-122.366,-90.078,-86.786,-77.9,-115.163,-121.595,-92.15],\"marker\":{\"color\":\"olive\",\"line\":{\"color\":\"rgb(40,40,40)\",\"width\":0.5},\"size\":[0,0,0,0,0,0,1,1,1,1,1,2,2,2,3,3,3,5,5,7,8,8,10,10,11,11,11,11,12,12],\"sizemode\":\"area\"},\"name\":\"0 - 30\",\"text\":[\"JACKSONVILLE INTERNATIONAL AIRPORT\\u003cbr\\u003ePressureDays 0\",\"J. WAYNE APT-ORANGE CO APT\\u003cbr\\u003ePressureDays 0\",\"LIHUE AIRPORT\\u003cbr\\u003ePressureDays 0\",\"MIAMI INTERNATIONAL AIRPORT\\u003cbr\\u003ePressureDays 0\",\"HONOLULU INTERNATIONAL AIRPORT\\u003cbr\\u003ePressureDays 0\",\"KAHULUI AIRPORT\\u003cbr\\u003ePressureDays 0\",\"FT LAUD\\u002fHOLLYWOOD INTL APT\\u003cbr\\u003ePressureDays 1\",\"LOS ANGELES INTERNATIONAL AIRPORT\\u003cbr\\u003ePressureDays 1\",\"ORLANDO INTERNATIONAL AIRPORT\\u003cbr\\u003ePressureDays 1\",\"TAMPA INTERNATIONAL AIRPORT\\u003cbr\\u003ePressureDays 1\",\"SAN DIEGO INTERNATIONAL AIRPORT\\u003cbr\\u003ePressureDays 1\",\"ONTARIO INTERNATIONAL ARPT\\u003cbr\\u003ePressureDays 2\",\"GULFPORT-BILOXI INTL ARPT\\u003cbr\\u003ePressureDays 2\",\"SANTA BARBARA MUNICIPAL AIRPORT\\u003cbr\\u003ePressureDays 2\",\"LOUIS ARMSTRONG NEW ORLEANS INTL AP\\u003cbr\\u003ePressureDays 3\",\"PENSACOLA REGIONAL AIRPORT\\u003cbr\\u003ePressureDays 3\",\"SAVANNAH\\u002fHILTON HEAD INTL AIRPORT\\u003cbr\\u003ePressureDays 3\",\"CHARLESTON AFB\\u002fINTERNATIONAL AIRPORT\\u003cbr\\u003ePressureDays 5\",\"FRESNO YOSEMITE INTERNATIONAL AIRPORT\\u003cbr\\u003ePressureDays 5\",\"HARTSFIELD-JACKSON ATLANTA INTL AP\\u003cbr\\u003ePressureDays 7\",\"TUCSON INTERNATIONAL AIRPORT\\u003cbr\\u003ePressureDays 8\",\"BIRMINGHAM INTERNATIONAL AIRPORT\\u003cbr\\u003ePressureDays 8\",\"PHOENIX SKY HARBOR INTL AIRPORT\\u003cbr\\u003ePressureDays 10\",\"SAN FRANCISCO INTERNATIONAL AIRPORT\\u003cbr\\u003ePressureDays 10\",\"JACKSON INTERNATIONAL AIRPORT\\u003cbr\\u003ePressureDays 11\",\"HUNTSVILLE INTL\\u002fC.T.JONES FIELD AIRPORT\\u003cbr\\u003ePressureDays 11\",\"WILMINGTON INTERNATIONAL AIRPORT\\u003cbr\\u003ePressureDays 11\",\"MCCARRAN INTERNATIONAL AIRPORT\\u003cbr\\u003ePressureDays 11\",\"SACRAMENTO INTL AIRPORT\\u003cbr\\u003ePressureDays 12\",\"LITTLE ROCK AFB AIRPORT\\u003cbr\\u003ePressureDays 12\"],\"type\":\"scattergeo\"},{\"lat\":[47.622,29.984,34.906,43.567,29.544,35.056,35.223,47.445,36.111,30.183,44.133,45.596,58.354,35.892,39.508,45.807,36.097,31.812,40.771,38.177,38.817,46.844,32.897,42.898,46.924,39.725,61.169,64.803,39.906,37.132],\"locationmode\":\"USA-states\",\"lon\":[-117.528,-95.361,-82.213,-116.241,-98.484,-89.986,-80.954,-122.314,-86.688,-97.68,-123.216,-122.609,-134.556,-78.782,-119.768,-108.546,-79.943,-106.377,-111.965,-85.731,-76.867,-92.187,-97.022,-106.474,-96.812,-86.282,-150.028,-147.876,-84.219,-76.494],\"marker\":{\"color\":\"green\",\"line\":{\"color\":\"rgb(40,40,40)\",\"width\":0.5},\"size\":[12,12,14,15,16,16,17,18,18,19,20,20,22,22,22,22,23,23,24,25,25,25,27,27,29,29,29,29,29,29],\"sizemode\":\"area\"},\"name\":\"30 - 60\",\"text\":[\"SPOKANE INTERNATIONAL AIRPORT\\u003cbr\\u003ePressureDays 12\",\"G BUSH INTERCONTINENTAL AP\\u002fHOUSTON AP\\u003cbr\\u003ePressureDays 12\",\"GREENVILLE-SPARTANBURG INTL AIRPORT\\u003cbr\\u003ePressureDays 14\",\"BOISE AIR TERMINAL\\u002fGOWEN FD AIRPORT\\u003cbr\\u003ePressureDays 15\",\"SAN ANTONIO INTERNATIONAL AIRPORT\\u003cbr\\u003ePressureDays 16\",\"MEMPHIS INTERNATIONAL AIRPORT\\u003cbr\\u003ePressureDays 16\",\"CHARLOTTE\\u002fDOUGLAS INTERNATIONAL AP\\u003cbr\\u003ePressureDays 17\",\"SEATTLE-TACOMA INTERNATIONAL AIRPORT\\u003cbr\\u003ePressureDays 18\",\"NASHVILLE INTERNATIONAL AIRPORT\\u003cbr\\u003ePressureDays 18\",\"AUSTIN-BERGSTROM INTL AIRPORT\\u003cbr\\u003ePressureDays 19\",\"MAHLON SWEET FIELD AIRPORT\\u003cbr\\u003ePressureDays 20\",\"PORTLAND INTERNATIONAL AIRPORT\\u003cbr\\u003ePressureDays 20\",\"JUNEAU INTERNATIONAL\\u003cbr\\u003ePressureDays 22\",\"RALEIGH-DURHAM INTERNATIONAL AP\\u003cbr\\u003ePressureDays 22\",\"RENO\\u002fTAHOE INTERNATIONAL AIRPORT\\u003cbr\\u003ePressureDays 22\",\"BILLINGS LOGAN INTERNATIONAL AIRPORT\\u003cbr\\u003ePressureDays 22\",\"PIEDMONT TRIAD INTERNATIONAL AIRPORT\\u003cbr\\u003ePressureDays 23\",\"EL PASO INTERNATIONAL AIRPORT\\u003cbr\\u003ePressureDays 23\",\"SALT LAKE CITY INTERNATIONAL AIRPORT\\u003cbr\\u003ePressureDays 24\",\"LOUISVILLE INTL-STANDIFORD FIELD AP\\u003cbr\\u003ePressureDays 25\",\"ANDREWS AIR FORCE BASE AIRPORT\\u003cbr\\u003ePressureDays 25\",\"DULUTH INTERNATIONAL AIRPORT\\u003cbr\\u003ePressureDays 25\",\"DALLAS\\u002fFT WORTH INTERNATIONAL AP\\u003cbr\\u003ePressureDays 27\",\"NATRONA COUNTY INTERNATIONAL AP\\u003cbr\\u003ePressureDays 27\",\"HECTOR INTERNATIONAL AIRPORT\\u003cbr\\u003ePressureDays 29\",\"INDIANAPOLIS INTERNATIONAL AIRPORT\\u003cbr\\u003ePressureDays 29\",\"TED STEVENS ANCHORAGE INTL\\u003cbr\\u003ePressureDays 29\",\"FAIRBANKS INTERNATIONAL\\u003cbr\\u003ePressureDays 29\",\"J.M.COX DAYTON INTERNATIONAL AIRPORT\\u003cbr\\u003ePressureDays 29\",\"NWPT NEWS\\u002fWIMBURG INTL APT\\u003cbr\\u003ePressureDays 29\"],\"type\":\"scattergeo\"},{\"lat\":[41.883,45.788,39.991,39.044,38.137,36.904,38.935,35.388,44.885,43.578,38.752,39.845,41.534,39.173,36.199,42.955,40.277,40.196,39.873,44.48],\"locationmode\":\"USA-states\",\"lon\":[-91.725,-111.162,-82.877,-84.672,-78.455,-76.193,-77.447,-97.6,-93.231,-96.754,-90.373,-89.684,-93.653,-76.684,-95.878,-87.905,-74.816,-76.772,-75.227,-88.137],\"marker\":{\"color\":\"yellow\",\"line\":{\"color\":\"rgb(40,40,40)\",\"width\":0.5},\"size\":[31,31,32,32,32,32,32,32,33,33,34,34,35,36,36,37,37,37,37,37],\"sizemode\":\"area\"},\"name\":\"60 - 80\",\"text\":[\"EASTERN IOWA REGIONAL AIRPORT\\u003cbr\\u003ePressureDays 31\",\"GALLATIN FIELD AIRPORT\\u003cbr\\u003ePressureDays 31\",\"PORT COLUMBUS INTERNATIONAL AIRPORT\\u003cbr\\u003ePressureDays 32\",\"CINCINNATI\\u002fNORTHERN KENTUCKY INTL AP\\u003cbr\\u003ePressureDays 32\",\"CHARLOTTESVILLE ALBEMARLE ARPT\\u003cbr\\u003ePressureDays 32\",\"NORFOLK INTERNATIONAL AIRPORT\\u003cbr\\u003ePressureDays 32\",\"WASHINGTON DULLES INTERNATIONAL AP\\u003cbr\\u003ePressureDays 32\",\"WILL ROGERS WORLD AIRPORT\\u003cbr\\u003ePressureDays 32\",\"MINNEAPOLIS-ST PAUL INTERNATIONAL AP\\u003cbr\\u003ePressureDays 33\",\"JOE FOSS FIELD AIRPORT\\u003cbr\\u003ePressureDays 33\",\"LAMBERT-ST LOUIS INTERNATIONAL AP\\u003cbr\\u003ePressureDays 34\",\"ABRAHAM LINCOLN CAPITAL AIRPORT\\u003cbr\\u003ePressureDays 34\",\"DES MOINES INTERNATIONAL AIRPORT\\u003cbr\\u003ePressureDays 35\",\"BALTIMORE-WASHINGTON INTL AIRPORT\\u003cbr\\u003ePressureDays 36\",\"TULSA INTERNATIONAL AIRPORT\\u003cbr\\u003ePressureDays 36\",\"GENERAL MITCHELL INTERNATIONAL AP\\u003cbr\\u003ePressureDays 37\",\"TRENTON MERCER AIRPORT\\u003cbr\\u003ePressureDays 37\",\"HARRISBURG INTERNATIONAL AIRPORT\\u003cbr\\u003ePressureDays 37\",\"PHILADELPHIA INTERNATIONAL AIRPORT\\u003cbr\\u003ePressureDays 37\",\"AUSTIN STRAUBEL INTERNATIONAL AP\\u003cbr\\u003ePressureDays 37\"],\"type\":\"scattergeo\"},{\"lat\":[40.485,38.38,40.972,37.512,39.297,38.847,32.447,41.312,39.452,41.937,42.93,35.042,40.848,42.747,40.639,41.96,41.784,42.882,41.406,42.231],\"locationmode\":\"USA-states\",\"lon\":[-80.214,-81.591,-85.206,-77.323,-94.731,-77.035,-93.824,-95.902,-74.567,-72.682,-71.436,-106.615,-96.765,-73.799,-73.764,-87.932,-87.755,-85.523,-81.852,-83.331],\"marker\":{\"color\":\"blue\",\"line\":{\"color\":\"rgb(40,40,40)\",\"width\":0.5},\"size\":[37,37,37,37,38,38,38,39,39,39,39,39,39,40,40,40,40,41,41,42],\"sizemode\":\"area\"},\"name\":\"80 - 100\",\"text\":[\"PITTSBURGH INTERNATIONAL AIRPORT\\u003cbr\\u003ePressureDays 37\",\"YEAGER AIRPORT\\u003cbr\\u003ePressureDays 37\",\"FORT WAYNE INTERNATIONAL AIRPORT\\u003cbr\\u003ePressureDays 37\",\"RICHMOND INTERNATIONAL AIRPORT\\u003cbr\\u003ePressureDays 37\",\"KANSAS CITY INTERNATIONAL AIRPORT\\u003cbr\\u003ePressureDays 38\",\"RONALD REAGAN WASHINGTON NATL AP\\u003cbr\\u003ePressureDays 38\",\"SHREVEPORT REGIONAL AIRPORT\\u003cbr\\u003ePressureDays 38\",\"EPPLEY AIRFIELD AIRPORT\\u003cbr\\u003ePressureDays 39\",\"ATLANTIC CITY INTERNATIONAL AIRPORT\\u003cbr\\u003ePressureDays 39\",\"BRADLEY INTERNATIONAL AIRPORT\\u003cbr\\u003ePressureDays 39\",\"MANCHESTER AIRPORT\\u003cbr\\u003ePressureDays 39\",\"ALBUQUERQUE INTL SUNPORT AIRPORT\\u003cbr\\u003ePressureDays 39\",\"LINCOLN MUNICIPAL AIRPORT\\u003cbr\\u003ePressureDays 39\",\"ALBANY INTERNATIONAL AIRPORT\\u003cbr\\u003ePressureDays 40\",\"JOHN F KENNEDY INTERNATIONAL AIRPORT\\u003cbr\\u003ePressureDays 40\",\"CHICAGO O'HARE INTERNATIONAL AIRPORT\\u003cbr\\u003ePressureDays 40\",\"CHICAGO MIDWAY INTL ARPT\\u003cbr\\u003ePressureDays 40\",\"GERALD R FORD INTERNATIONAL AIRPORT\\u003cbr\\u003ePressureDays 41\",\"CLEVELAND-HOPKINS INTERNATIONAL AP\\u003cbr\\u003ePressureDays 41\",\"DETROIT METRO WAYNE COUNTY AIRPORT\\u003cbr\\u003ePressureDays 42\"],\"type\":\"scattergeo\"},{\"lat\":[41.723,40.779,44.468,40.683,43.642,42.361,43.117,43.111,42.94,37.648,38.809,39.847],\"locationmode\":\"USA-states\",\"lon\":[-71.432,-73.88,-73.15,-74.169,-70.304,-71.01,-77.675,-76.104,-78.736,-97.43,-104.689,-104.656],\"marker\":{\"color\":\"red\",\"line\":{\"color\":\"rgb(40,40,40)\",\"width\":0.5},\"size\":[42,42,43,43,44,47,47,49,49,50,52,56],\"sizemode\":\"area\"},\"name\":\"100 - 120\",\"text\":[\"THEODORE F GREEN STATE AIRPORT\\u003cbr\\u003ePressureDays 42\",\"LA GUARDIA AIRPORT\\u003cbr\\u003ePressureDays 42\",\"BURLINGTON INTERNATIONAL AIRPORT\\u003cbr\\u003ePressureDays 43\",\"NEWARK LIBERTY INTERNATIONAL AP\\u003cbr\\u003ePressureDays 43\",\"PORTLAND INTERNATIONAL JETPORT AP\\u003cbr\\u003ePressureDays 44\",\"GEN E L LOGAN INTERNATIONAL AIRPORT\\u003cbr\\u003ePressureDays 47\",\"GREATER ROCHESTER INTERNATIONAL AP\\u003cbr\\u003ePressureDays 47\",\"SYRACUSE HANCOCK INTERNATIONAL AP\\u003cbr\\u003ePressureDays 49\",\"BUFFALO NIAGARA INTERNATIONAL AP\\u003cbr\\u003ePressureDays 49\",\"WICHITA EISENHOWER NATIONAL\\u003cbr\\u003ePressureDays 50\",\"CITY OF COLORADO SPRINGS MUNICIPAL AP\\u003cbr\\u003ePressureDays 52\",\"DENVER INTERNATIONAL AIRPORT\\u003cbr\\u003ePressureDays 56\"],\"type\":\"scattergeo\"}],                        {\"template\":{\"data\":{\"histogram2dcontour\":[{\"type\":\"histogram2dcontour\",\"colorbar\":{\"outlinewidth\":0,\"ticks\":\"\"},\"colorscale\":[[0.0,\"#0d0887\"],[0.1111111111111111,\"#46039f\"],[0.2222222222222222,\"#7201a8\"],[0.3333333333333333,\"#9c179e\"],[0.4444444444444444,\"#bd3786\"],[0.5555555555555556,\"#d8576b\"],[0.6666666666666666,\"#ed7953\"],[0.7777777777777778,\"#fb9f3a\"],[0.8888888888888888,\"#fdca26\"],[1.0,\"#f0f921\"]]}],\"choropleth\":[{\"type\":\"choropleth\",\"colorbar\":{\"outlinewidth\":0,\"ticks\":\"\"}}],\"histogram2d\":[{\"type\":\"histogram2d\",\"colorbar\":{\"outlinewidth\":0,\"ticks\":\"\"},\"colorscale\":[[0.0,\"#0d0887\"],[0.1111111111111111,\"#46039f\"],[0.2222222222222222,\"#7201a8\"],[0.3333333333333333,\"#9c179e\"],[0.4444444444444444,\"#bd3786\"],[0.5555555555555556,\"#d8576b\"],[0.6666666666666666,\"#ed7953\"],[0.7777777777777778,\"#fb9f3a\"],[0.8888888888888888,\"#fdca26\"],[1.0,\"#f0f921\"]]}],\"heatmap\":[{\"type\":\"heatmap\",\"colorbar\":{\"outlinewidth\":0,\"ticks\":\"\"},\"colorscale\":[[0.0,\"#0d0887\"],[0.1111111111111111,\"#46039f\"],[0.2222222222222222,\"#7201a8\"],[0.3333333333333333,\"#9c179e\"],[0.4444444444444444,\"#bd3786\"],[0.5555555555555556,\"#d8576b\"],[0.6666666666666666,\"#ed7953\"],[0.7777777777777778,\"#fb9f3a\"],[0.8888888888888888,\"#fdca26\"],[1.0,\"#f0f921\"]]}],\"heatmapgl\":[{\"type\":\"heatmapgl\",\"colorbar\":{\"outlinewidth\":0,\"ticks\":\"\"},\"colorscale\":[[0.0,\"#0d0887\"],[0.1111111111111111,\"#46039f\"],[0.2222222222222222,\"#7201a8\"],[0.3333333333333333,\"#9c179e\"],[0.4444444444444444,\"#bd3786\"],[0.5555555555555556,\"#d8576b\"],[0.6666666666666666,\"#ed7953\"],[0.7777777777777778,\"#fb9f3a\"],[0.8888888888888888,\"#fdca26\"],[1.0,\"#f0f921\"]]}],\"contourcarpet\":[{\"type\":\"contourcarpet\",\"colorbar\":{\"outlinewidth\":0,\"ticks\":\"\"}}],\"contour\":[{\"type\":\"contour\",\"colorbar\":{\"outlinewidth\":0,\"ticks\":\"\"},\"colorscale\":[[0.0,\"#0d0887\"],[0.1111111111111111,\"#46039f\"],[0.2222222222222222,\"#7201a8\"],[0.3333333333333333,\"#9c179e\"],[0.4444444444444444,\"#bd3786\"],[0.5555555555555556,\"#d8576b\"],[0.6666666666666666,\"#ed7953\"],[0.7777777777777778,\"#fb9f3a\"],[0.8888888888888888,\"#fdca26\"],[1.0,\"#f0f921\"]]}],\"surface\":[{\"type\":\"surface\",\"colorbar\":{\"outlinewidth\":0,\"ticks\":\"\"},\"colorscale\":[[0.0,\"#0d0887\"],[0.1111111111111111,\"#46039f\"],[0.2222222222222222,\"#7201a8\"],[0.3333333333333333,\"#9c179e\"],[0.4444444444444444,\"#bd3786\"],[0.5555555555555556,\"#d8576b\"],[0.6666666666666666,\"#ed7953\"],[0.7777777777777778,\"#fb9f3a\"],[0.8888888888888888,\"#fdca26\"],[1.0,\"#f0f921\"]]}],\"mesh3d\":[{\"type\":\"mesh3d\",\"colorbar\":{\"outlinewidth\":0,\"ticks\":\"\"}}],\"scatter\":[{\"fillpattern\":{\"fillmode\":\"overlay\",\"size\":10,\"solidity\":0.2},\"type\":\"scatter\"}],\"parcoords\":[{\"type\":\"parcoords\",\"line\":{\"colorbar\":{\"outlinewidth\":0,\"ticks\":\"\"}}}],\"scatterpolargl\":[{\"type\":\"scatterpolargl\",\"marker\":{\"colorbar\":{\"outlinewidth\":0,\"ticks\":\"\"}}}],\"bar\":[{\"error_x\":{\"color\":\"#2a3f5f\"},\"error_y\":{\"color\":\"#2a3f5f\"},\"marker\":{\"line\":{\"color\":\"#E5ECF6\",\"width\":0.5},\"pattern\":{\"fillmode\":\"overlay\",\"size\":10,\"solidity\":0.2}},\"type\":\"bar\"}],\"scattergeo\":[{\"type\":\"scattergeo\",\"marker\":{\"colorbar\":{\"outlinewidth\":0,\"ticks\":\"\"}}}],\"scatterpolar\":[{\"type\":\"scatterpolar\",\"marker\":{\"colorbar\":{\"outlinewidth\":0,\"ticks\":\"\"}}}],\"histogram\":[{\"marker\":{\"pattern\":{\"fillmode\":\"overlay\",\"size\":10,\"solidity\":0.2}},\"type\":\"histogram\"}],\"scattergl\":[{\"type\":\"scattergl\",\"marker\":{\"colorbar\":{\"outlinewidth\":0,\"ticks\":\"\"}}}],\"scatter3d\":[{\"type\":\"scatter3d\",\"line\":{\"colorbar\":{\"outlinewidth\":0,\"ticks\":\"\"}},\"marker\":{\"colorbar\":{\"outlinewidth\":0,\"ticks\":\"\"}}}],\"scattermapbox\":[{\"type\":\"scattermapbox\",\"marker\":{\"colorbar\":{\"outlinewidth\":0,\"ticks\":\"\"}}}],\"scatterternary\":[{\"type\":\"scatterternary\",\"marker\":{\"colorbar\":{\"outlinewidth\":0,\"ticks\":\"\"}}}],\"scattercarpet\":[{\"type\":\"scattercarpet\",\"marker\":{\"colorbar\":{\"outlinewidth\":0,\"ticks\":\"\"}}}],\"carpet\":[{\"aaxis\":{\"endlinecolor\":\"#2a3f5f\",\"gridcolor\":\"white\",\"linecolor\":\"white\",\"minorgridcolor\":\"white\",\"startlinecolor\":\"#2a3f5f\"},\"baxis\":{\"endlinecolor\":\"#2a3f5f\",\"gridcolor\":\"white\",\"linecolor\":\"white\",\"minorgridcolor\":\"white\",\"startlinecolor\":\"#2a3f5f\"},\"type\":\"carpet\"}],\"table\":[{\"cells\":{\"fill\":{\"color\":\"#EBF0F8\"},\"line\":{\"color\":\"white\"}},\"header\":{\"fill\":{\"color\":\"#C8D4E3\"},\"line\":{\"color\":\"white\"}},\"type\":\"table\"}],\"barpolar\":[{\"marker\":{\"line\":{\"color\":\"#E5ECF6\",\"width\":0.5},\"pattern\":{\"fillmode\":\"overlay\",\"size\":10,\"solidity\":0.2}},\"type\":\"barpolar\"}],\"pie\":[{\"automargin\":true,\"type\":\"pie\"}]},\"layout\":{\"autotypenumbers\":\"strict\",\"colorway\":[\"#636efa\",\"#EF553B\",\"#00cc96\",\"#ab63fa\",\"#FFA15A\",\"#19d3f3\",\"#FF6692\",\"#B6E880\",\"#FF97FF\",\"#FECB52\"],\"font\":{\"color\":\"#2a3f5f\"},\"hovermode\":\"closest\",\"hoverlabel\":{\"align\":\"left\"},\"paper_bgcolor\":\"white\",\"plot_bgcolor\":\"#E5ECF6\",\"polar\":{\"bgcolor\":\"#E5ECF6\",\"angularaxis\":{\"gridcolor\":\"white\",\"linecolor\":\"white\",\"ticks\":\"\"},\"radialaxis\":{\"gridcolor\":\"white\",\"linecolor\":\"white\",\"ticks\":\"\"}},\"ternary\":{\"bgcolor\":\"#E5ECF6\",\"aaxis\":{\"gridcolor\":\"white\",\"linecolor\":\"white\",\"ticks\":\"\"},\"baxis\":{\"gridcolor\":\"white\",\"linecolor\":\"white\",\"ticks\":\"\"},\"caxis\":{\"gridcolor\":\"white\",\"linecolor\":\"white\",\"ticks\":\"\"}},\"coloraxis\":{\"colorbar\":{\"outlinewidth\":0,\"ticks\":\"\"}},\"colorscale\":{\"sequential\":[[0.0,\"#0d0887\"],[0.1111111111111111,\"#46039f\"],[0.2222222222222222,\"#7201a8\"],[0.3333333333333333,\"#9c179e\"],[0.4444444444444444,\"#bd3786\"],[0.5555555555555556,\"#d8576b\"],[0.6666666666666666,\"#ed7953\"],[0.7777777777777778,\"#fb9f3a\"],[0.8888888888888888,\"#fdca26\"],[1.0,\"#f0f921\"]],\"sequentialminus\":[[0.0,\"#0d0887\"],[0.1111111111111111,\"#46039f\"],[0.2222222222222222,\"#7201a8\"],[0.3333333333333333,\"#9c179e\"],[0.4444444444444444,\"#bd3786\"],[0.5555555555555556,\"#d8576b\"],[0.6666666666666666,\"#ed7953\"],[0.7777777777777778,\"#fb9f3a\"],[0.8888888888888888,\"#fdca26\"],[1.0,\"#f0f921\"]],\"diverging\":[[0,\"#8e0152\"],[0.1,\"#c51b7d\"],[0.2,\"#de77ae\"],[0.3,\"#f1b6da\"],[0.4,\"#fde0ef\"],[0.5,\"#f7f7f7\"],[0.6,\"#e6f5d0\"],[0.7,\"#b8e186\"],[0.8,\"#7fbc41\"],[0.9,\"#4d9221\"],[1,\"#276419\"]]},\"xaxis\":{\"gridcolor\":\"white\",\"linecolor\":\"white\",\"ticks\":\"\",\"title\":{\"standoff\":15},\"zerolinecolor\":\"white\",\"automargin\":true,\"zerolinewidth\":2},\"yaxis\":{\"gridcolor\":\"white\",\"linecolor\":\"white\",\"ticks\":\"\",\"title\":{\"standoff\":15},\"zerolinecolor\":\"white\",\"automargin\":true,\"zerolinewidth\":2},\"scene\":{\"xaxis\":{\"backgroundcolor\":\"#E5ECF6\",\"gridcolor\":\"white\",\"linecolor\":\"white\",\"showbackground\":true,\"ticks\":\"\",\"zerolinecolor\":\"white\",\"gridwidth\":2},\"yaxis\":{\"backgroundcolor\":\"#E5ECF6\",\"gridcolor\":\"white\",\"linecolor\":\"white\",\"showbackground\":true,\"ticks\":\"\",\"zerolinecolor\":\"white\",\"gridwidth\":2},\"zaxis\":{\"backgroundcolor\":\"#E5ECF6\",\"gridcolor\":\"white\",\"linecolor\":\"white\",\"showbackground\":true,\"ticks\":\"\",\"zerolinecolor\":\"white\",\"gridwidth\":2}},\"shapedefaults\":{\"line\":{\"color\":\"#2a3f5f\"}},\"annotationdefaults\":{\"arrowcolor\":\"#2a3f5f\",\"arrowhead\":0,\"arrowwidth\":1},\"geo\":{\"bgcolor\":\"white\",\"landcolor\":\"#E5ECF6\",\"subunitcolor\":\"white\",\"showland\":true,\"showlakes\":true,\"lakecolor\":\"white\"},\"title\":{\"x\":0.05},\"mapbox\":{\"style\":\"light\"}}},\"title\":{\"text\":\"2023 US City Pressure Days\\u003cbr\\u003e(Click legend to toggle traces)\"},\"geo\":{\"scope\":\"usa\",\"landcolor\":\"rgb(217, 217, 217)\"},\"showlegend\":true},                        {\"responsive\": true}                    ).then(function(){\n                            \nvar gd = document.getElementById('590df279-6ebc-4805-9a76-2c1b3866c601');\nvar x = new MutationObserver(function (mutations, observer) {{\n        var display = window.getComputedStyle(gd).display;\n        if (!display || display === 'none') {{\n            console.log([gd, 'removed!']);\n            Plotly.purge(gd);\n            observer.disconnect();\n        }}\n}});\n\n// Listen for the removal of the full notebook cells\nvar notebookContainer = gd.closest('#notebook-container');\nif (notebookContainer) {{\n    x.observe(notebookContainer, {childList: true});\n}}\n\n// Listen for the clearing of the current output cell\nvar outputEl = gd.closest('.output');\nif (outputEl) {{\n    x.observe(outputEl, {childList: true});\n}}\n\n                        })                };                });            </script>        </div>"
     },
     "metadata": {},
     "output_type": "display_data"
    }
   ],
   "source": [
    "limits = [(0,30),(30,60),(60,80),(80,100),(100,120)]\n",
    "colors = [\"olive\", \"green\", \"yellow\", \"blue\", \"red\"]\n",
    "cities = []\n",
    "\n",
    "fig = go.Figure()\n",
    "\n",
    "for i in range(len(limits)):\n",
    "    lim = limits[i]\n",
    "    df_sub = df[lim[0]:lim[1]]\n",
    "    fig.add_trace(go.Scattergeo(\n",
    "        locationmode = 'USA-states',\n",
    "        lon = df_sub['lon'],\n",
    "        lat = df_sub['lat'],\n",
    "        text = df_sub['text'],\n",
    "        marker = dict(\n",
    "            size = df_sub['ttl_year'],\n",
    "            color = colors[i],\n",
    "            line_color='rgb(40,40,40)',\n",
    "            line_width=0.5,\n",
    "            sizemode = 'area'\n",
    "        ),\n",
    "        name = '{0} - {1}'.format(lim[0],lim[1])))\n",
    "\n",
    "fig.update_layout(\n",
    "        title_text = f'{select_year} US City Pressure Days<br>(Click legend to toggle traces)',\n",
    "        showlegend = True,\n",
    "        geo = dict(\n",
    "            scope = 'usa',\n",
    "            landcolor = 'rgb(217, 217, 217)',\n",
    "        )\n",
    "    )\n",
    "\n",
    "fig.show()\n"
   ]
  },
  {
   "cell_type": "code",
   "execution_count": 21,
   "metadata": {
    "pycharm": {
     "name": "#%%\n"
    }
   },
   "outputs": [],
   "source": [
    "file = f\"{select_year}-US-City-Pressure-Days-bubblemap.pdf\"\n",
    "fig.write_image(file, scale=2)\n"
   ]
  },
  {
   "cell_type": "code",
   "execution_count": null,
   "outputs": [],
   "source": [],
   "metadata": {
    "collapsed": false,
    "pycharm": {
     "name": "#%%\n"
    }
   }
  },
  {
   "cell_type": "code",
   "execution_count": null,
   "outputs": [],
   "source": [],
   "metadata": {
    "collapsed": false,
    "pycharm": {
     "name": "#%%\n"
    }
   }
  }
 ],
 "metadata": {
  "kernelspec": {
   "display_name": "Python 3 (ipykernel)",
   "language": "python",
   "name": "python3"
  },
  "language_info": {
   "codemirror_mode": {
    "name": "ipython",
    "version": 3
   },
   "file_extension": ".py",
   "mimetype": "text/x-python",
   "name": "python",
   "nbconvert_exporter": "python",
   "pygments_lexer": "ipython3",
   "version": "3.10.9"
  }
 },
 "nbformat": 4,
 "nbformat_minor": 1
}
