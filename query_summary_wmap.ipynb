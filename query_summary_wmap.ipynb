{
 "cells": [
  {
   "cell_type": "code",
   "execution_count": 1,
   "metadata": {
    "ExecuteTime": {
     "end_time": "2023-09-12T15:04:33.778306Z",
     "start_time": "2023-09-12T15:04:32.272497Z"
    },
    "pycharm": {
     "name": "#%%\n"
    }
   },
   "outputs": [],
   "source": [
    "from sqlalchemy import create_engine\n",
    "import pandas as pd\n",
    "import plotly.graph_objects as go\n",
    "import seaborn as sns\n",
    "import shared_funcs\n"
   ]
  },
  {
   "cell_type": "code",
   "execution_count": 2,
   "metadata": {
    "ExecuteTime": {
     "end_time": "2023-09-12T15:04:40.019678Z",
     "start_time": "2023-09-12T15:04:40.002834Z"
    },
    "pycharm": {
     "name": "#%%\n"
    }
   },
   "outputs": [],
   "source": [
    "sel_cols_map = ['state', 'station_name', 'lat', 'lon', 'ttl_year_avg']\n",
    "convert_dict_map = {'state': 'string', 'station_name': 'string', 'ttl_year_avg': int}\n",
    "\n",
    "sel_cols_plot = ['region', 'sub_region', 'state', 'station_name', 'ttl_year_avg']\n",
    "convert_dict_plot = {'region': 'string', 'sub_region': 'string', 'state': 'string', 'station_name': 'string', 'ttl_year_avg': int}\n"
   ]
  },
  {
   "cell_type": "code",
   "execution_count": 3,
   "metadata": {
    "ExecuteTime": {
     "end_time": "2023-09-12T15:05:52.357464Z",
     "start_time": "2023-09-12T15:05:01.388457Z"
    },
    "pycharm": {
     "name": "#%%\n"
    }
   },
   "outputs": [],
   "source": [
    "df_map = pd.read_csv(\"output_files/data_tenyearavg.csv\")\n",
    "df_plot = pd.read_csv(\"output_files/data_tenyearavg.csv\")\n"
   ]
  },
  {
   "cell_type": "code",
   "execution_count": 4,
   "metadata": {
    "pycharm": {
     "name": "#%%\n"
    }
   },
   "outputs": [],
   "source": [
    "df_map = df_map.astype(convert_dict_map)\n",
    "df_map = df_map[sel_cols_map].sort_values(by=['ttl_year_avg'], ascending=True)\n",
    "df_map.reset_index(drop=True, inplace=True)\n",
    "df_map['text'] = df_map['station_name'] + '<br>PressureDays ' + (df_map['ttl_year_avg']).astype(str)\n",
    "\n",
    "df_plot = df_plot.astype(convert_dict_plot)\n",
    "df_plot = df_plot[sel_cols_plot]\n",
    "df_plot.reset_index(drop=True, inplace=True)\n",
    "df_plot['text'] = df_plot['region'] + \": \" + df_plot['sub_region']\n"
   ]
  },
  {
   "cell_type": "code",
   "execution_count": 5,
   "metadata": {},
   "outputs": [
    {
     "data": {
      "text/html": [
       "<div>\n",
       "<style scoped>\n",
       "    .dataframe tbody tr th:only-of-type {\n",
       "        vertical-align: middle;\n",
       "    }\n",
       "\n",
       "    .dataframe tbody tr th {\n",
       "        vertical-align: top;\n",
       "    }\n",
       "\n",
       "    .dataframe thead th {\n",
       "        text-align: right;\n",
       "    }\n",
       "</style>\n",
       "<table border=\"1\" class=\"dataframe\">\n",
       "  <thead>\n",
       "    <tr style=\"text-align: right;\">\n",
       "      <th></th>\n",
       "      <th>state</th>\n",
       "      <th>station_name</th>\n",
       "      <th>lat</th>\n",
       "      <th>lon</th>\n",
       "      <th>ttl_year_avg</th>\n",
       "      <th>text</th>\n",
       "    </tr>\n",
       "  </thead>\n",
       "  <tbody>\n",
       "    <tr>\n",
       "      <th>0</th>\n",
       "      <td>CA</td>\n",
       "      <td>J. WAYNE APT-ORANGE CO APT</td>\n",
       "      <td>33.680</td>\n",
       "      <td>-117.867</td>\n",
       "      <td>0</td>\n",
       "      <td>J. WAYNE APT-ORANGE CO APT&lt;br&gt;PressureDays 0</td>\n",
       "    </tr>\n",
       "    <tr>\n",
       "      <th>1</th>\n",
       "      <td>FL</td>\n",
       "      <td>FT LAUD/HOLLYWOOD INTL APT</td>\n",
       "      <td>26.079</td>\n",
       "      <td>-80.162</td>\n",
       "      <td>0</td>\n",
       "      <td>FT LAUD/HOLLYWOOD INTL APT&lt;br&gt;PressureDays 0</td>\n",
       "    </tr>\n",
       "    <tr>\n",
       "      <th>2</th>\n",
       "      <td>HI</td>\n",
       "      <td>LIHUE AIRPORT</td>\n",
       "      <td>21.980</td>\n",
       "      <td>-159.339</td>\n",
       "      <td>0</td>\n",
       "      <td>LIHUE AIRPORT&lt;br&gt;PressureDays 0</td>\n",
       "    </tr>\n",
       "    <tr>\n",
       "      <th>3</th>\n",
       "      <td>HI</td>\n",
       "      <td>KAHULUI AIRPORT</td>\n",
       "      <td>20.889</td>\n",
       "      <td>-156.435</td>\n",
       "      <td>0</td>\n",
       "      <td>KAHULUI AIRPORT&lt;br&gt;PressureDays 0</td>\n",
       "    </tr>\n",
       "    <tr>\n",
       "      <th>4</th>\n",
       "      <td>HI</td>\n",
       "      <td>HONOLULU INTERNATIONAL AIRPORT</td>\n",
       "      <td>21.324</td>\n",
       "      <td>-157.939</td>\n",
       "      <td>0</td>\n",
       "      <td>HONOLULU INTERNATIONAL AIRPORT&lt;br&gt;PressureDays 0</td>\n",
       "    </tr>\n",
       "    <tr>\n",
       "      <th>...</th>\n",
       "      <td>...</td>\n",
       "      <td>...</td>\n",
       "      <td>...</td>\n",
       "      <td>...</td>\n",
       "      <td>...</td>\n",
       "      <td>...</td>\n",
       "    </tr>\n",
       "    <tr>\n",
       "      <th>107</th>\n",
       "      <td>NH</td>\n",
       "      <td>MANCHESTER AIRPORT</td>\n",
       "      <td>42.930</td>\n",
       "      <td>-71.436</td>\n",
       "      <td>43</td>\n",
       "      <td>MANCHESTER AIRPORT&lt;br&gt;PressureDays 43</td>\n",
       "    </tr>\n",
       "    <tr>\n",
       "      <th>108</th>\n",
       "      <td>MA</td>\n",
       "      <td>GEN E L LOGAN INTERNATIONAL AIRPORT</td>\n",
       "      <td>42.361</td>\n",
       "      <td>-71.010</td>\n",
       "      <td>43</td>\n",
       "      <td>GEN E L LOGAN INTERNATIONAL AIRPORT&lt;br&gt;Pressur...</td>\n",
       "    </tr>\n",
       "    <tr>\n",
       "      <th>109</th>\n",
       "      <td>CO</td>\n",
       "      <td>DENVER INTERNATIONAL AIRPORT</td>\n",
       "      <td>39.847</td>\n",
       "      <td>-104.656</td>\n",
       "      <td>46</td>\n",
       "      <td>DENVER INTERNATIONAL AIRPORT&lt;br&gt;PressureDays 46</td>\n",
       "    </tr>\n",
       "    <tr>\n",
       "      <th>110</th>\n",
       "      <td>ME</td>\n",
       "      <td>PORTLAND INTERNATIONAL JETPORT AP</td>\n",
       "      <td>43.642</td>\n",
       "      <td>-70.304</td>\n",
       "      <td>48</td>\n",
       "      <td>PORTLAND INTERNATIONAL JETPORT AP&lt;br&gt;PressureD...</td>\n",
       "    </tr>\n",
       "    <tr>\n",
       "      <th>111</th>\n",
       "      <td>CO</td>\n",
       "      <td>CITY OF COLORADO SPRINGS MUNICIPAL AP</td>\n",
       "      <td>38.809</td>\n",
       "      <td>-104.689</td>\n",
       "      <td>57</td>\n",
       "      <td>CITY OF COLORADO SPRINGS MUNICIPAL AP&lt;br&gt;Press...</td>\n",
       "    </tr>\n",
       "  </tbody>\n",
       "</table>\n",
       "<p>112 rows × 6 columns</p>\n",
       "</div>"
      ],
      "text/plain": [
       "    state                           station_name     lat      lon  \\\n",
       "0      CA             J. WAYNE APT-ORANGE CO APT  33.680 -117.867   \n",
       "1      FL             FT LAUD/HOLLYWOOD INTL APT  26.079  -80.162   \n",
       "2      HI                          LIHUE AIRPORT  21.980 -159.339   \n",
       "3      HI                        KAHULUI AIRPORT  20.889 -156.435   \n",
       "4      HI         HONOLULU INTERNATIONAL AIRPORT  21.324 -157.939   \n",
       "..    ...                                    ...     ...      ...   \n",
       "107    NH                     MANCHESTER AIRPORT  42.930  -71.436   \n",
       "108    MA    GEN E L LOGAN INTERNATIONAL AIRPORT  42.361  -71.010   \n",
       "109    CO           DENVER INTERNATIONAL AIRPORT  39.847 -104.656   \n",
       "110    ME      PORTLAND INTERNATIONAL JETPORT AP  43.642  -70.304   \n",
       "111    CO  CITY OF COLORADO SPRINGS MUNICIPAL AP  38.809 -104.689   \n",
       "\n",
       "     ttl_year_avg                                               text  \n",
       "0               0       J. WAYNE APT-ORANGE CO APT<br>PressureDays 0  \n",
       "1               0       FT LAUD/HOLLYWOOD INTL APT<br>PressureDays 0  \n",
       "2               0                    LIHUE AIRPORT<br>PressureDays 0  \n",
       "3               0                  KAHULUI AIRPORT<br>PressureDays 0  \n",
       "4               0   HONOLULU INTERNATIONAL AIRPORT<br>PressureDays 0  \n",
       "..            ...                                                ...  \n",
       "107            43              MANCHESTER AIRPORT<br>PressureDays 43  \n",
       "108            43  GEN E L LOGAN INTERNATIONAL AIRPORT<br>Pressur...  \n",
       "109            46    DENVER INTERNATIONAL AIRPORT<br>PressureDays 46  \n",
       "110            48  PORTLAND INTERNATIONAL JETPORT AP<br>PressureD...  \n",
       "111            57  CITY OF COLORADO SPRINGS MUNICIPAL AP<br>Press...  \n",
       "\n",
       "[112 rows x 6 columns]"
      ]
     },
     "execution_count": 5,
     "metadata": {},
     "output_type": "execute_result"
    }
   ],
   "source": [
    "df_map[:120]\n"
   ]
  },
  {
   "cell_type": "code",
   "execution_count": 6,
   "metadata": {
    "pycharm": {
     "name": "#%%\n"
    }
   },
   "outputs": [
    {
     "data": {
      "text/html": [
       "<div>\n",
       "<style scoped>\n",
       "    .dataframe tbody tr th:only-of-type {\n",
       "        vertical-align: middle;\n",
       "    }\n",
       "\n",
       "    .dataframe tbody tr th {\n",
       "        vertical-align: top;\n",
       "    }\n",
       "\n",
       "    .dataframe thead th {\n",
       "        text-align: right;\n",
       "    }\n",
       "</style>\n",
       "<table border=\"1\" class=\"dataframe\">\n",
       "  <thead>\n",
       "    <tr style=\"text-align: right;\">\n",
       "      <th></th>\n",
       "      <th>region</th>\n",
       "      <th>sub_region</th>\n",
       "      <th>state</th>\n",
       "      <th>station_name</th>\n",
       "      <th>ttl_year_avg</th>\n",
       "      <th>text</th>\n",
       "    </tr>\n",
       "  </thead>\n",
       "  <tbody>\n",
       "    <tr>\n",
       "      <th>0</th>\n",
       "      <td>MIDWEST</td>\n",
       "      <td>EAST NORTH CENTRAL</td>\n",
       "      <td>IL</td>\n",
       "      <td>ABRAHAM LINCOLN CAPITAL AIRPORT</td>\n",
       "      <td>26</td>\n",
       "      <td>MIDWEST: EAST NORTH CENTRAL</td>\n",
       "    </tr>\n",
       "    <tr>\n",
       "      <th>1</th>\n",
       "      <td>MIDWEST</td>\n",
       "      <td>EAST NORTH CENTRAL</td>\n",
       "      <td>IL</td>\n",
       "      <td>CHICAGO MIDWAY INTL ARPT</td>\n",
       "      <td>31</td>\n",
       "      <td>MIDWEST: EAST NORTH CENTRAL</td>\n",
       "    </tr>\n",
       "    <tr>\n",
       "      <th>2</th>\n",
       "      <td>MIDWEST</td>\n",
       "      <td>EAST NORTH CENTRAL</td>\n",
       "      <td>IL</td>\n",
       "      <td>CHICAGO O'HARE INTERNATIONAL AIRPORT</td>\n",
       "      <td>30</td>\n",
       "      <td>MIDWEST: EAST NORTH CENTRAL</td>\n",
       "    </tr>\n",
       "    <tr>\n",
       "      <th>3</th>\n",
       "      <td>MIDWEST</td>\n",
       "      <td>EAST NORTH CENTRAL</td>\n",
       "      <td>IN</td>\n",
       "      <td>FORT WAYNE INTERNATIONAL AIRPORT</td>\n",
       "      <td>25</td>\n",
       "      <td>MIDWEST: EAST NORTH CENTRAL</td>\n",
       "    </tr>\n",
       "    <tr>\n",
       "      <th>4</th>\n",
       "      <td>MIDWEST</td>\n",
       "      <td>EAST NORTH CENTRAL</td>\n",
       "      <td>IN</td>\n",
       "      <td>INDIANAPOLIS INTERNATIONAL AIRPORT</td>\n",
       "      <td>21</td>\n",
       "      <td>MIDWEST: EAST NORTH CENTRAL</td>\n",
       "    </tr>\n",
       "    <tr>\n",
       "      <th>...</th>\n",
       "      <td>...</td>\n",
       "      <td>...</td>\n",
       "      <td>...</td>\n",
       "      <td>...</td>\n",
       "      <td>...</td>\n",
       "      <td>...</td>\n",
       "    </tr>\n",
       "    <tr>\n",
       "      <th>107</th>\n",
       "      <td>WEST</td>\n",
       "      <td>PACIFIC</td>\n",
       "      <td>HI</td>\n",
       "      <td>LIHUE AIRPORT</td>\n",
       "      <td>0</td>\n",
       "      <td>WEST: PACIFIC</td>\n",
       "    </tr>\n",
       "    <tr>\n",
       "      <th>108</th>\n",
       "      <td>WEST</td>\n",
       "      <td>PACIFIC</td>\n",
       "      <td>OR</td>\n",
       "      <td>MAHLON SWEET FIELD AIRPORT</td>\n",
       "      <td>9</td>\n",
       "      <td>WEST: PACIFIC</td>\n",
       "    </tr>\n",
       "    <tr>\n",
       "      <th>109</th>\n",
       "      <td>WEST</td>\n",
       "      <td>PACIFIC</td>\n",
       "      <td>OR</td>\n",
       "      <td>PORTLAND INTERNATIONAL AIRPORT</td>\n",
       "      <td>13</td>\n",
       "      <td>WEST: PACIFIC</td>\n",
       "    </tr>\n",
       "    <tr>\n",
       "      <th>110</th>\n",
       "      <td>WEST</td>\n",
       "      <td>PACIFIC</td>\n",
       "      <td>WA</td>\n",
       "      <td>SEATTLE-TACOMA INTERNATIONAL AIRPORT</td>\n",
       "      <td>18</td>\n",
       "      <td>WEST: PACIFIC</td>\n",
       "    </tr>\n",
       "    <tr>\n",
       "      <th>111</th>\n",
       "      <td>WEST</td>\n",
       "      <td>PACIFIC</td>\n",
       "      <td>WA</td>\n",
       "      <td>SPOKANE INTERNATIONAL AIRPORT</td>\n",
       "      <td>17</td>\n",
       "      <td>WEST: PACIFIC</td>\n",
       "    </tr>\n",
       "  </tbody>\n",
       "</table>\n",
       "<p>112 rows × 6 columns</p>\n",
       "</div>"
      ],
      "text/plain": [
       "      region          sub_region state                          station_name  \\\n",
       "0    MIDWEST  EAST NORTH CENTRAL    IL       ABRAHAM LINCOLN CAPITAL AIRPORT   \n",
       "1    MIDWEST  EAST NORTH CENTRAL    IL              CHICAGO MIDWAY INTL ARPT   \n",
       "2    MIDWEST  EAST NORTH CENTRAL    IL  CHICAGO O'HARE INTERNATIONAL AIRPORT   \n",
       "3    MIDWEST  EAST NORTH CENTRAL    IN      FORT WAYNE INTERNATIONAL AIRPORT   \n",
       "4    MIDWEST  EAST NORTH CENTRAL    IN    INDIANAPOLIS INTERNATIONAL AIRPORT   \n",
       "..       ...                 ...   ...                                   ...   \n",
       "107     WEST             PACIFIC    HI                         LIHUE AIRPORT   \n",
       "108     WEST             PACIFIC    OR            MAHLON SWEET FIELD AIRPORT   \n",
       "109     WEST             PACIFIC    OR        PORTLAND INTERNATIONAL AIRPORT   \n",
       "110     WEST             PACIFIC    WA  SEATTLE-TACOMA INTERNATIONAL AIRPORT   \n",
       "111     WEST             PACIFIC    WA         SPOKANE INTERNATIONAL AIRPORT   \n",
       "\n",
       "     ttl_year_avg                         text  \n",
       "0              26  MIDWEST: EAST NORTH CENTRAL  \n",
       "1              31  MIDWEST: EAST NORTH CENTRAL  \n",
       "2              30  MIDWEST: EAST NORTH CENTRAL  \n",
       "3              25  MIDWEST: EAST NORTH CENTRAL  \n",
       "4              21  MIDWEST: EAST NORTH CENTRAL  \n",
       "..            ...                          ...  \n",
       "107             0                WEST: PACIFIC  \n",
       "108             9                WEST: PACIFIC  \n",
       "109            13                WEST: PACIFIC  \n",
       "110            18                WEST: PACIFIC  \n",
       "111            17                WEST: PACIFIC  \n",
       "\n",
       "[112 rows x 6 columns]"
      ]
     },
     "execution_count": 6,
     "metadata": {},
     "output_type": "execute_result"
    }
   ],
   "source": [
    "df_plot[:120]\n"
   ]
  },
  {
   "cell_type": "code",
   "execution_count": 28,
   "metadata": {
    "pycharm": {
     "name": "#%%\n"
    },
    "scrolled": true
   },
   "outputs": [
    {
     "data": {
      "application/vnd.plotly.v1+json": {
       "config": {
        "plotlyServerURL": "https://plot.ly"
       },
       "data": [
        {
         "lat": [
          33.68,
          26.079,
          21.98,
          20.889,
          21.324,
          25.788,
          36.78,
          33.938,
          34.053,
          32.734,
          37.62,
          34.424,
          27.963,
          28.418,
          29.984,
          30.412,
          33.428,
          29.998,
          30.495,
          38.701
         ],
         "locationmode": "USA-states",
         "lon": [
          -117.867,
          -80.162,
          -159.339,
          -156.435,
          -157.939,
          -80.317,
          -119.72,
          -118.387,
          -117.577,
          -117.183,
          -122.366,
          -119.842,
          -82.54,
          -81.324,
          -95.361,
          -89.081,
          -112.004,
          -90.278,
          -81.694,
          -121.595
         ],
         "marker": {
          "color": "white",
          "line": {
           "color": "rgb(40,40,40)",
           "width": 0.5
          },
          "size": [
           0,
           0,
           0,
           0,
           0,
           0,
           1,
           1,
           1,
           1,
           1,
           1,
           1,
           1,
           2,
           2,
           2,
           2,
           2,
           2
          ],
          "sizemode": "area"
         },
         "name": "0 - 20",
         "text": [
          "J. WAYNE APT-ORANGE CO APT<br>PressureDays 0",
          "FT LAUD/HOLLYWOOD INTL APT<br>PressureDays 0",
          "LIHUE AIRPORT<br>PressureDays 0",
          "KAHULUI AIRPORT<br>PressureDays 0",
          "HONOLULU INTERNATIONAL AIRPORT<br>PressureDays 0",
          "MIAMI INTERNATIONAL AIRPORT<br>PressureDays 0",
          "FRESNO YOSEMITE INTERNATIONAL AIRPORT<br>PressureDays 1",
          "LOS ANGELES INTERNATIONAL AIRPORT<br>PressureDays 1",
          "ONTARIO INTERNATIONAL ARPT<br>PressureDays 1",
          "SAN DIEGO INTERNATIONAL AIRPORT<br>PressureDays 1",
          "SAN FRANCISCO INTERNATIONAL AIRPORT<br>PressureDays 1",
          "SANTA BARBARA MUNICIPAL AIRPORT<br>PressureDays 1",
          "TAMPA INTERNATIONAL AIRPORT<br>PressureDays 1",
          "ORLANDO INTERNATIONAL AIRPORT<br>PressureDays 1",
          "G BUSH INTERCONTINENTAL AP/HOUSTON AP<br>PressureDays 2",
          "GULFPORT-BILOXI INTL ARPT<br>PressureDays 2",
          "PHOENIX SKY HARBOR INTL AIRPORT<br>PressureDays 2",
          "LOUIS ARMSTRONG NEW ORLEANS INTL AP<br>PressureDays 2",
          "JACKSONVILLE INTERNATIONAL AIRPORT<br>PressureDays 2",
          "SACRAMENTO INTL AIRPORT<br>PressureDays 2"
         ],
         "type": "scattergeo"
        },
        {
         "lat": [
          32.132,
          30.476,
          29.544,
          32.131,
          33.565,
          32.32,
          33.63,
          30.183,
          32.447,
          36.072,
          32.899,
          34.906,
          35.056,
          34.644,
          44.133,
          35.223,
          43.567,
          36.111,
          32.897,
          34.267
         ],
         "locationmode": "USA-states",
         "lon": [
          -110.956,
          -87.186,
          -98.484,
          -81.202,
          -86.745,
          -90.078,
          -84.442,
          -97.68,
          -93.824,
          -115.163,
          -80.041,
          -82.213,
          -89.986,
          -86.786,
          -123.216,
          -80.954,
          -116.241,
          -86.688,
          -97.022,
          -77.9
         ],
         "marker": {
          "color": "yellow",
          "line": {
           "color": "rgb(40,40,40)",
           "width": 0.5
          },
          "size": [
           3,
           3,
           5,
           5,
           6,
           6,
           7,
           7,
           7,
           7,
           8,
           9,
           9,
           9,
           9,
           10,
           11,
           11,
           11,
           12
          ],
          "sizemode": "area"
         },
         "name": "20 - 40",
         "text": [
          "TUCSON INTERNATIONAL AIRPORT<br>PressureDays 3",
          "PENSACOLA REGIONAL AIRPORT<br>PressureDays 3",
          "SAN ANTONIO INTERNATIONAL AIRPORT<br>PressureDays 5",
          "SAVANNAH/HILTON HEAD INTL AIRPORT<br>PressureDays 5",
          "BIRMINGHAM INTERNATIONAL AIRPORT<br>PressureDays 6",
          "JACKSON INTERNATIONAL AIRPORT<br>PressureDays 6",
          "HARTSFIELD-JACKSON ATLANTA INTL AP<br>PressureDays 7",
          "AUSTIN-BERGSTROM INTL AIRPORT<br>PressureDays 7",
          "SHREVEPORT REGIONAL AIRPORT<br>PressureDays 7",
          "MCCARRAN INTERNATIONAL AIRPORT<br>PressureDays 7",
          "CHARLESTON AFB/INTERNATIONAL AIRPORT<br>PressureDays 8",
          "GREENVILLE-SPARTANBURG INTL AIRPORT<br>PressureDays 9",
          "MEMPHIS INTERNATIONAL AIRPORT<br>PressureDays 9",
          "HUNTSVILLE INTL/C.T.JONES FIELD AIRPORT<br>PressureDays 9",
          "MAHLON SWEET FIELD AIRPORT<br>PressureDays 9",
          "CHARLOTTE/DOUGLAS INTERNATIONAL AP<br>PressureDays 10",
          "BOISE AIR TERMINAL/GOWEN FD AIRPORT<br>PressureDays 11",
          "NASHVILLE INTERNATIONAL AIRPORT<br>PressureDays 11",
          "DALLAS/FT WORTH INTERNATIONAL AP<br>PressureDays 11",
          "WILMINGTON INTERNATIONAL AIRPORT<br>PressureDays 12"
         ],
         "type": "scattergeo"
        },
        {
         "lat": [
          34.917,
          45.596,
          36.097,
          39.508,
          40.771,
          31.812,
          35.892,
          47.622,
          38.177,
          38.38,
          47.445,
          35.388,
          39.044,
          38.817,
          39.725,
          38.137,
          39.991,
          36.199,
          38.752,
          36.904
         ],
         "locationmode": "USA-states",
         "lon": [
          -92.15,
          -122.609,
          -79.943,
          -119.768,
          -111.965,
          -106.377,
          -78.782,
          -117.528,
          -85.731,
          -81.591,
          -122.314,
          -97.6,
          -84.672,
          -76.867,
          -86.282,
          -78.455,
          -82.877,
          -95.878,
          -90.373,
          -76.193
         ],
         "marker": {
          "color": "green",
          "line": {
           "color": "rgb(40,40,40)",
           "width": 0.5
          },
          "size": [
           12,
           13,
           13,
           13,
           16,
           16,
           16,
           17,
           17,
           18,
           18,
           18,
           19,
           20,
           21,
           21,
           21,
           21,
           22,
           23
          ],
          "sizemode": "area"
         },
         "name": "40 - 60",
         "text": [
          "LITTLE ROCK AFB AIRPORT<br>PressureDays 12",
          "PORTLAND INTERNATIONAL AIRPORT<br>PressureDays 13",
          "PIEDMONT TRIAD INTERNATIONAL AIRPORT<br>PressureDays 13",
          "RENO/TAHOE INTERNATIONAL AIRPORT<br>PressureDays 13",
          "SALT LAKE CITY INTERNATIONAL AIRPORT<br>PressureDays 16",
          "EL PASO INTERNATIONAL AIRPORT<br>PressureDays 16",
          "RALEIGH-DURHAM INTERNATIONAL AP<br>PressureDays 16",
          "SPOKANE INTERNATIONAL AIRPORT<br>PressureDays 17",
          "LOUISVILLE INTL-STANDIFORD FIELD AP<br>PressureDays 17",
          "YEAGER AIRPORT<br>PressureDays 18",
          "SEATTLE-TACOMA INTERNATIONAL AIRPORT<br>PressureDays 18",
          "WILL ROGERS WORLD AIRPORT<br>PressureDays 18",
          "CINCINNATI/NORTHERN KENTUCKY INTL AP<br>PressureDays 19",
          "ANDREWS AIR FORCE BASE AIRPORT<br>PressureDays 20",
          "INDIANAPOLIS INTERNATIONAL AIRPORT<br>PressureDays 21",
          "CHARLOTTESVILLE ALBEMARLE ARPT<br>PressureDays 21",
          "PORT COLUMBUS INTERNATIONAL AIRPORT<br>PressureDays 21",
          "TULSA INTERNATIONAL AIRPORT<br>PressureDays 21",
          "LAMBERT-ST LOUIS INTERNATIONAL AP<br>PressureDays 22",
          "NORFOLK INTERNATIONAL AIRPORT<br>PressureDays 23"
         ],
         "type": "scattergeo"
        },
        {
         "lat": [
          37.512,
          39.906,
          37.132,
          40.485,
          38.935,
          39.297,
          64.803,
          40.972,
          45.807,
          39.845,
          38.847,
          39.173,
          40.196,
          37.648,
          41.406,
          39.873,
          45.788,
          42.882,
          41.96,
          58.354
         ],
         "locationmode": "USA-states",
         "lon": [
          -77.323,
          -84.219,
          -76.494,
          -80.214,
          -77.447,
          -94.731,
          -147.876,
          -85.206,
          -108.546,
          -89.684,
          -77.035,
          -76.684,
          -76.772,
          -97.43,
          -81.852,
          -75.227,
          -111.162,
          -85.523,
          -87.932,
          -134.556
         ],
         "marker": {
          "color": "red",
          "line": {
           "color": "rgb(40,40,40)",
           "width": 0.5
          },
          "size": [
           23,
           23,
           23,
           24,
           24,
           24,
           25,
           25,
           26,
           26,
           26,
           26,
           26,
           27,
           28,
           29,
           29,
           30,
           30,
           31
          ],
          "sizemode": "area"
         },
         "name": "60 - 80",
         "text": [
          "RICHMOND INTERNATIONAL AIRPORT<br>PressureDays 23",
          "J.M.COX DAYTON INTERNATIONAL AIRPORT<br>PressureDays 23",
          "NWPT NEWS/WIMBURG INTL APT<br>PressureDays 23",
          "PITTSBURGH INTERNATIONAL AIRPORT<br>PressureDays 24",
          "WASHINGTON DULLES INTERNATIONAL AP<br>PressureDays 24",
          "KANSAS CITY INTERNATIONAL AIRPORT<br>PressureDays 24",
          "FAIRBANKS INTERNATIONAL<br>PressureDays 25",
          "FORT WAYNE INTERNATIONAL AIRPORT<br>PressureDays 25",
          "BILLINGS LOGAN INTERNATIONAL AIRPORT<br>PressureDays 26",
          "ABRAHAM LINCOLN CAPITAL AIRPORT<br>PressureDays 26",
          "RONALD REAGAN WASHINGTON NATL AP<br>PressureDays 26",
          "BALTIMORE-WASHINGTON INTL AIRPORT<br>PressureDays 26",
          "HARRISBURG INTERNATIONAL AIRPORT<br>PressureDays 26",
          "WICHITA EISENHOWER NATIONAL<br>PressureDays 27",
          "CLEVELAND-HOPKINS INTERNATIONAL AP<br>PressureDays 28",
          "PHILADELPHIA INTERNATIONAL AIRPORT<br>PressureDays 29",
          "GALLATIN FIELD AIRPORT<br>PressureDays 29",
          "GERALD R FORD INTERNATIONAL AIRPORT<br>PressureDays 30",
          "CHICAGO O'HARE INTERNATIONAL AIRPORT<br>PressureDays 30",
          "JUNEAU INTERNATIONAL<br>PressureDays 31"
         ],
         "type": "scattergeo"
        },
        {
         "lat": [
          42.231,
          61.169,
          41.883,
          39.452,
          40.277,
          41.784,
          40.683,
          40.779,
          42.955,
          41.534,
          41.312,
          42.94,
          40.848,
          43.111,
          35.042,
          46.844,
          40.639,
          44.885,
          43.117,
          42.747
         ],
         "locationmode": "USA-states",
         "lon": [
          -83.331,
          -150.028,
          -91.725,
          -74.567,
          -74.816,
          -87.755,
          -74.169,
          -73.88,
          -87.905,
          -93.653,
          -95.902,
          -78.736,
          -96.765,
          -76.104,
          -106.615,
          -92.187,
          -73.764,
          -93.231,
          -77.675,
          -73.799
         ],
         "marker": {
          "color": "blue",
          "line": {
           "color": "rgb(40,40,40)",
           "width": 0.5
          },
          "size": [
           31,
           31,
           31,
           31,
           31,
           31,
           33,
           33,
           33,
           33,
           33,
           34,
           35,
           35,
           35,
           35,
           35,
           35,
           36,
           36
          ],
          "sizemode": "area"
         },
         "name": "80 - 100",
         "text": [
          "DETROIT METRO WAYNE COUNTY AIRPORT<br>PressureDays 31",
          "TED STEVENS ANCHORAGE INTL<br>PressureDays 31",
          "EASTERN IOWA REGIONAL AIRPORT<br>PressureDays 31",
          "ATLANTIC CITY INTERNATIONAL AIRPORT<br>PressureDays 31",
          "TRENTON MERCER AIRPORT<br>PressureDays 31",
          "CHICAGO MIDWAY INTL ARPT<br>PressureDays 31",
          "NEWARK LIBERTY INTERNATIONAL AP<br>PressureDays 33",
          "LA GUARDIA AIRPORT<br>PressureDays 33",
          "GENERAL MITCHELL INTERNATIONAL AP<br>PressureDays 33",
          "DES MOINES INTERNATIONAL AIRPORT<br>PressureDays 33",
          "EPPLEY AIRFIELD AIRPORT<br>PressureDays 33",
          "BUFFALO NIAGARA INTERNATIONAL AP<br>PressureDays 34",
          "LINCOLN MUNICIPAL AIRPORT<br>PressureDays 35",
          "SYRACUSE HANCOCK INTERNATIONAL AP<br>PressureDays 35",
          "ALBUQUERQUE INTL SUNPORT AIRPORT<br>PressureDays 35",
          "DULUTH INTERNATIONAL AIRPORT<br>PressureDays 35",
          "JOHN F KENNEDY INTERNATIONAL AIRPORT<br>PressureDays 35",
          "MINNEAPOLIS-ST PAUL INTERNATIONAL AP<br>PressureDays 35",
          "GREATER ROCHESTER INTERNATIONAL AP<br>PressureDays 36",
          "ALBANY INTERNATIONAL AIRPORT<br>PressureDays 36"
         ],
         "type": "scattergeo"
        },
        {
         "lat": [
          43.578,
          44.48,
          41.937,
          42.898,
          41.723,
          44.468,
          46.924,
          42.93,
          42.361,
          39.847,
          43.642,
          38.809
         ],
         "locationmode": "USA-states",
         "lon": [
          -96.754,
          -88.137,
          -72.682,
          -106.474,
          -71.432,
          -73.15,
          -96.812,
          -71.436,
          -71.01,
          -104.656,
          -70.304,
          -104.689
         ],
         "marker": {
          "color": "purple",
          "line": {
           "color": "rgb(40,40,40)",
           "width": 0.5
          },
          "size": [
           36,
           37,
           37,
           38,
           41,
           41,
           41,
           43,
           43,
           46,
           48,
           57
          ],
          "sizemode": "area"
         },
         "name": "100 - 120",
         "text": [
          "JOE FOSS FIELD AIRPORT<br>PressureDays 36",
          "AUSTIN STRAUBEL INTERNATIONAL AP<br>PressureDays 37",
          "BRADLEY INTERNATIONAL AIRPORT<br>PressureDays 37",
          "NATRONA COUNTY INTERNATIONAL AP<br>PressureDays 38",
          "THEODORE F GREEN STATE AIRPORT<br>PressureDays 41",
          "BURLINGTON INTERNATIONAL AIRPORT<br>PressureDays 41",
          "HECTOR INTERNATIONAL AIRPORT<br>PressureDays 41",
          "MANCHESTER AIRPORT<br>PressureDays 43",
          "GEN E L LOGAN INTERNATIONAL AIRPORT<br>PressureDays 43",
          "DENVER INTERNATIONAL AIRPORT<br>PressureDays 46",
          "PORTLAND INTERNATIONAL JETPORT AP<br>PressureDays 48",
          "CITY OF COLORADO SPRINGS MUNICIPAL AP<br>PressureDays 57"
         ],
         "type": "scattergeo"
        }
       ],
       "layout": {
        "autosize": true,
        "geo": {
         "landcolor": "rgb(217, 217, 217)",
         "scope": "usa"
        },
        "showlegend": false,
        "template": {
         "data": {
          "bar": [
           {
            "error_x": {
             "color": "#2a3f5f"
            },
            "error_y": {
             "color": "#2a3f5f"
            },
            "marker": {
             "line": {
              "color": "#E5ECF6",
              "width": 0.5
             },
             "pattern": {
              "fillmode": "overlay",
              "size": 10,
              "solidity": 0.2
             }
            },
            "type": "bar"
           }
          ],
          "barpolar": [
           {
            "marker": {
             "line": {
              "color": "#E5ECF6",
              "width": 0.5
             },
             "pattern": {
              "fillmode": "overlay",
              "size": 10,
              "solidity": 0.2
             }
            },
            "type": "barpolar"
           }
          ],
          "carpet": [
           {
            "aaxis": {
             "endlinecolor": "#2a3f5f",
             "gridcolor": "white",
             "linecolor": "white",
             "minorgridcolor": "white",
             "startlinecolor": "#2a3f5f"
            },
            "baxis": {
             "endlinecolor": "#2a3f5f",
             "gridcolor": "white",
             "linecolor": "white",
             "minorgridcolor": "white",
             "startlinecolor": "#2a3f5f"
            },
            "type": "carpet"
           }
          ],
          "choropleth": [
           {
            "colorbar": {
             "outlinewidth": 0,
             "ticks": ""
            },
            "type": "choropleth"
           }
          ],
          "contour": [
           {
            "colorbar": {
             "outlinewidth": 0,
             "ticks": ""
            },
            "colorscale": [
             [
              0,
              "#0d0887"
             ],
             [
              0.1111111111111111,
              "#46039f"
             ],
             [
              0.2222222222222222,
              "#7201a8"
             ],
             [
              0.3333333333333333,
              "#9c179e"
             ],
             [
              0.4444444444444444,
              "#bd3786"
             ],
             [
              0.5555555555555556,
              "#d8576b"
             ],
             [
              0.6666666666666666,
              "#ed7953"
             ],
             [
              0.7777777777777778,
              "#fb9f3a"
             ],
             [
              0.8888888888888888,
              "#fdca26"
             ],
             [
              1,
              "#f0f921"
             ]
            ],
            "type": "contour"
           }
          ],
          "contourcarpet": [
           {
            "colorbar": {
             "outlinewidth": 0,
             "ticks": ""
            },
            "type": "contourcarpet"
           }
          ],
          "heatmap": [
           {
            "colorbar": {
             "outlinewidth": 0,
             "ticks": ""
            },
            "colorscale": [
             [
              0,
              "#0d0887"
             ],
             [
              0.1111111111111111,
              "#46039f"
             ],
             [
              0.2222222222222222,
              "#7201a8"
             ],
             [
              0.3333333333333333,
              "#9c179e"
             ],
             [
              0.4444444444444444,
              "#bd3786"
             ],
             [
              0.5555555555555556,
              "#d8576b"
             ],
             [
              0.6666666666666666,
              "#ed7953"
             ],
             [
              0.7777777777777778,
              "#fb9f3a"
             ],
             [
              0.8888888888888888,
              "#fdca26"
             ],
             [
              1,
              "#f0f921"
             ]
            ],
            "type": "heatmap"
           }
          ],
          "heatmapgl": [
           {
            "colorbar": {
             "outlinewidth": 0,
             "ticks": ""
            },
            "colorscale": [
             [
              0,
              "#0d0887"
             ],
             [
              0.1111111111111111,
              "#46039f"
             ],
             [
              0.2222222222222222,
              "#7201a8"
             ],
             [
              0.3333333333333333,
              "#9c179e"
             ],
             [
              0.4444444444444444,
              "#bd3786"
             ],
             [
              0.5555555555555556,
              "#d8576b"
             ],
             [
              0.6666666666666666,
              "#ed7953"
             ],
             [
              0.7777777777777778,
              "#fb9f3a"
             ],
             [
              0.8888888888888888,
              "#fdca26"
             ],
             [
              1,
              "#f0f921"
             ]
            ],
            "type": "heatmapgl"
           }
          ],
          "histogram": [
           {
            "marker": {
             "pattern": {
              "fillmode": "overlay",
              "size": 10,
              "solidity": 0.2
             }
            },
            "type": "histogram"
           }
          ],
          "histogram2d": [
           {
            "colorbar": {
             "outlinewidth": 0,
             "ticks": ""
            },
            "colorscale": [
             [
              0,
              "#0d0887"
             ],
             [
              0.1111111111111111,
              "#46039f"
             ],
             [
              0.2222222222222222,
              "#7201a8"
             ],
             [
              0.3333333333333333,
              "#9c179e"
             ],
             [
              0.4444444444444444,
              "#bd3786"
             ],
             [
              0.5555555555555556,
              "#d8576b"
             ],
             [
              0.6666666666666666,
              "#ed7953"
             ],
             [
              0.7777777777777778,
              "#fb9f3a"
             ],
             [
              0.8888888888888888,
              "#fdca26"
             ],
             [
              1,
              "#f0f921"
             ]
            ],
            "type": "histogram2d"
           }
          ],
          "histogram2dcontour": [
           {
            "colorbar": {
             "outlinewidth": 0,
             "ticks": ""
            },
            "colorscale": [
             [
              0,
              "#0d0887"
             ],
             [
              0.1111111111111111,
              "#46039f"
             ],
             [
              0.2222222222222222,
              "#7201a8"
             ],
             [
              0.3333333333333333,
              "#9c179e"
             ],
             [
              0.4444444444444444,
              "#bd3786"
             ],
             [
              0.5555555555555556,
              "#d8576b"
             ],
             [
              0.6666666666666666,
              "#ed7953"
             ],
             [
              0.7777777777777778,
              "#fb9f3a"
             ],
             [
              0.8888888888888888,
              "#fdca26"
             ],
             [
              1,
              "#f0f921"
             ]
            ],
            "type": "histogram2dcontour"
           }
          ],
          "mesh3d": [
           {
            "colorbar": {
             "outlinewidth": 0,
             "ticks": ""
            },
            "type": "mesh3d"
           }
          ],
          "parcoords": [
           {
            "line": {
             "colorbar": {
              "outlinewidth": 0,
              "ticks": ""
             }
            },
            "type": "parcoords"
           }
          ],
          "pie": [
           {
            "automargin": true,
            "type": "pie"
           }
          ],
          "scatter": [
           {
            "fillpattern": {
             "fillmode": "overlay",
             "size": 10,
             "solidity": 0.2
            },
            "type": "scatter"
           }
          ],
          "scatter3d": [
           {
            "line": {
             "colorbar": {
              "outlinewidth": 0,
              "ticks": ""
             }
            },
            "marker": {
             "colorbar": {
              "outlinewidth": 0,
              "ticks": ""
             }
            },
            "type": "scatter3d"
           }
          ],
          "scattercarpet": [
           {
            "marker": {
             "colorbar": {
              "outlinewidth": 0,
              "ticks": ""
             }
            },
            "type": "scattercarpet"
           }
          ],
          "scattergeo": [
           {
            "marker": {
             "colorbar": {
              "outlinewidth": 0,
              "ticks": ""
             }
            },
            "type": "scattergeo"
           }
          ],
          "scattergl": [
           {
            "marker": {
             "colorbar": {
              "outlinewidth": 0,
              "ticks": ""
             }
            },
            "type": "scattergl"
           }
          ],
          "scattermapbox": [
           {
            "marker": {
             "colorbar": {
              "outlinewidth": 0,
              "ticks": ""
             }
            },
            "type": "scattermapbox"
           }
          ],
          "scatterpolar": [
           {
            "marker": {
             "colorbar": {
              "outlinewidth": 0,
              "ticks": ""
             }
            },
            "type": "scatterpolar"
           }
          ],
          "scatterpolargl": [
           {
            "marker": {
             "colorbar": {
              "outlinewidth": 0,
              "ticks": ""
             }
            },
            "type": "scatterpolargl"
           }
          ],
          "scatterternary": [
           {
            "marker": {
             "colorbar": {
              "outlinewidth": 0,
              "ticks": ""
             }
            },
            "type": "scatterternary"
           }
          ],
          "surface": [
           {
            "colorbar": {
             "outlinewidth": 0,
             "ticks": ""
            },
            "colorscale": [
             [
              0,
              "#0d0887"
             ],
             [
              0.1111111111111111,
              "#46039f"
             ],
             [
              0.2222222222222222,
              "#7201a8"
             ],
             [
              0.3333333333333333,
              "#9c179e"
             ],
             [
              0.4444444444444444,
              "#bd3786"
             ],
             [
              0.5555555555555556,
              "#d8576b"
             ],
             [
              0.6666666666666666,
              "#ed7953"
             ],
             [
              0.7777777777777778,
              "#fb9f3a"
             ],
             [
              0.8888888888888888,
              "#fdca26"
             ],
             [
              1,
              "#f0f921"
             ]
            ],
            "type": "surface"
           }
          ],
          "table": [
           {
            "cells": {
             "fill": {
              "color": "#EBF0F8"
             },
             "line": {
              "color": "white"
             }
            },
            "header": {
             "fill": {
              "color": "#C8D4E3"
             },
             "line": {
              "color": "white"
             }
            },
            "type": "table"
           }
          ]
         },
         "layout": {
          "annotationdefaults": {
           "arrowcolor": "#2a3f5f",
           "arrowhead": 0,
           "arrowwidth": 1
          },
          "autotypenumbers": "strict",
          "coloraxis": {
           "colorbar": {
            "outlinewidth": 0,
            "ticks": ""
           }
          },
          "colorscale": {
           "diverging": [
            [
             0,
             "#8e0152"
            ],
            [
             0.1,
             "#c51b7d"
            ],
            [
             0.2,
             "#de77ae"
            ],
            [
             0.3,
             "#f1b6da"
            ],
            [
             0.4,
             "#fde0ef"
            ],
            [
             0.5,
             "#f7f7f7"
            ],
            [
             0.6,
             "#e6f5d0"
            ],
            [
             0.7,
             "#b8e186"
            ],
            [
             0.8,
             "#7fbc41"
            ],
            [
             0.9,
             "#4d9221"
            ],
            [
             1,
             "#276419"
            ]
           ],
           "sequential": [
            [
             0,
             "#0d0887"
            ],
            [
             0.1111111111111111,
             "#46039f"
            ],
            [
             0.2222222222222222,
             "#7201a8"
            ],
            [
             0.3333333333333333,
             "#9c179e"
            ],
            [
             0.4444444444444444,
             "#bd3786"
            ],
            [
             0.5555555555555556,
             "#d8576b"
            ],
            [
             0.6666666666666666,
             "#ed7953"
            ],
            [
             0.7777777777777778,
             "#fb9f3a"
            ],
            [
             0.8888888888888888,
             "#fdca26"
            ],
            [
             1,
             "#f0f921"
            ]
           ],
           "sequentialminus": [
            [
             0,
             "#0d0887"
            ],
            [
             0.1111111111111111,
             "#46039f"
            ],
            [
             0.2222222222222222,
             "#7201a8"
            ],
            [
             0.3333333333333333,
             "#9c179e"
            ],
            [
             0.4444444444444444,
             "#bd3786"
            ],
            [
             0.5555555555555556,
             "#d8576b"
            ],
            [
             0.6666666666666666,
             "#ed7953"
            ],
            [
             0.7777777777777778,
             "#fb9f3a"
            ],
            [
             0.8888888888888888,
             "#fdca26"
            ],
            [
             1,
             "#f0f921"
            ]
           ]
          },
          "colorway": [
           "#636efa",
           "#EF553B",
           "#00cc96",
           "#ab63fa",
           "#FFA15A",
           "#19d3f3",
           "#FF6692",
           "#B6E880",
           "#FF97FF",
           "#FECB52"
          ],
          "font": {
           "color": "#2a3f5f"
          },
          "geo": {
           "bgcolor": "white",
           "lakecolor": "white",
           "landcolor": "#E5ECF6",
           "showlakes": true,
           "showland": true,
           "subunitcolor": "white"
          },
          "hoverlabel": {
           "align": "left"
          },
          "hovermode": "closest",
          "mapbox": {
           "style": "light"
          },
          "paper_bgcolor": "white",
          "plot_bgcolor": "#E5ECF6",
          "polar": {
           "angularaxis": {
            "gridcolor": "white",
            "linecolor": "white",
            "ticks": ""
           },
           "bgcolor": "#E5ECF6",
           "radialaxis": {
            "gridcolor": "white",
            "linecolor": "white",
            "ticks": ""
           }
          },
          "scene": {
           "xaxis": {
            "backgroundcolor": "#E5ECF6",
            "gridcolor": "white",
            "gridwidth": 2,
            "linecolor": "white",
            "showbackground": true,
            "ticks": "",
            "zerolinecolor": "white"
           },
           "yaxis": {
            "backgroundcolor": "#E5ECF6",
            "gridcolor": "white",
            "gridwidth": 2,
            "linecolor": "white",
            "showbackground": true,
            "ticks": "",
            "zerolinecolor": "white"
           },
           "zaxis": {
            "backgroundcolor": "#E5ECF6",
            "gridcolor": "white",
            "gridwidth": 2,
            "linecolor": "white",
            "showbackground": true,
            "ticks": "",
            "zerolinecolor": "white"
           }
          },
          "shapedefaults": {
           "line": {
            "color": "#2a3f5f"
           }
          },
          "ternary": {
           "aaxis": {
            "gridcolor": "white",
            "linecolor": "white",
            "ticks": ""
           },
           "baxis": {
            "gridcolor": "white",
            "linecolor": "white",
            "ticks": ""
           },
           "bgcolor": "#E5ECF6",
           "caxis": {
            "gridcolor": "white",
            "linecolor": "white",
            "ticks": ""
           }
          },
          "title": {
           "x": 0.05
          },
          "xaxis": {
           "automargin": true,
           "gridcolor": "white",
           "linecolor": "white",
           "ticks": "",
           "title": {
            "standoff": 15
           },
           "zerolinecolor": "white",
           "zerolinewidth": 2
          },
          "yaxis": {
           "automargin": true,
           "gridcolor": "white",
           "linecolor": "white",
           "ticks": "",
           "title": {
            "standoff": 15
           },
           "zerolinecolor": "white",
           "zerolinewidth": 2
          }
         }
        },
        "title": {
         "text": "US Cities: Significant Decreases In Hourly Barometric Pressure<br>Bubble Map, Greater Size Indicates Higher Occurences"
        }
       }
      },
      "image/png": "[encoded data removed]",
      "text/html": [
       "<div>                            <div id=\"772155eb-acf6-4046-87e8-bb56acbecaf9\" class=\"plotly-graph-div\" style=\"height:525px; width:100%;\"></div>            <script type=\"text/javascript\">                require([\"plotly\"], function(Plotly) {                    window.PLOTLYENV=window.PLOTLYENV || {};                                    if (document.getElementById(\"772155eb-acf6-4046-87e8-bb56acbecaf9\")) {                    Plotly.newPlot(                        \"772155eb-acf6-4046-87e8-bb56acbecaf9\",                        [{\"lat\":[33.68,26.079,21.98,20.889,21.324,25.788,36.78,33.938,34.053,32.734,37.62,34.424,27.963,28.418,29.984,30.412,33.428,29.998,30.495,38.701],\"locationmode\":\"USA-states\",\"lon\":[-117.867,-80.162,-159.339,-156.435,-157.939,-80.317,-119.72,-118.387,-117.577,-117.183,-122.366,-119.842,-82.54,-81.324,-95.361,-89.081,-112.004,-90.278,-81.694,-121.595],\"marker\":{\"color\":\"white\",\"line\":{\"color\":\"rgb(40,40,40)\",\"width\":0.5},\"size\":[0,0,0,0,0,0,1,1,1,1,1,1,1,1,2,2,2,2,2,2],\"sizemode\":\"area\"},\"name\":\"0 - 20\",\"text\":[\"J. WAYNE APT-ORANGE CO APT\\u003cbr\\u003ePressureDays 0\",\"FT LAUD\\u002fHOLLYWOOD INTL APT\\u003cbr\\u003ePressureDays 0\",\"LIHUE AIRPORT\\u003cbr\\u003ePressureDays 0\",\"KAHULUI AIRPORT\\u003cbr\\u003ePressureDays 0\",\"HONOLULU INTERNATIONAL AIRPORT\\u003cbr\\u003ePressureDays 0\",\"MIAMI INTERNATIONAL AIRPORT\\u003cbr\\u003ePressureDays 0\",\"FRESNO YOSEMITE INTERNATIONAL AIRPORT\\u003cbr\\u003ePressureDays 1\",\"LOS ANGELES INTERNATIONAL AIRPORT\\u003cbr\\u003ePressureDays 1\",\"ONTARIO INTERNATIONAL ARPT\\u003cbr\\u003ePressureDays 1\",\"SAN DIEGO INTERNATIONAL AIRPORT\\u003cbr\\u003ePressureDays 1\",\"SAN FRANCISCO INTERNATIONAL AIRPORT\\u003cbr\\u003ePressureDays 1\",\"SANTA BARBARA MUNICIPAL AIRPORT\\u003cbr\\u003ePressureDays 1\",\"TAMPA INTERNATIONAL AIRPORT\\u003cbr\\u003ePressureDays 1\",\"ORLANDO INTERNATIONAL AIRPORT\\u003cbr\\u003ePressureDays 1\",\"G BUSH INTERCONTINENTAL AP\\u002fHOUSTON AP\\u003cbr\\u003ePressureDays 2\",\"GULFPORT-BILOXI INTL ARPT\\u003cbr\\u003ePressureDays 2\",\"PHOENIX SKY HARBOR INTL AIRPORT\\u003cbr\\u003ePressureDays 2\",\"LOUIS ARMSTRONG NEW ORLEANS INTL AP\\u003cbr\\u003ePressureDays 2\",\"JACKSONVILLE INTERNATIONAL AIRPORT\\u003cbr\\u003ePressureDays 2\",\"SACRAMENTO INTL AIRPORT\\u003cbr\\u003ePressureDays 2\"],\"type\":\"scattergeo\"},{\"lat\":[32.132,30.476,29.544,32.131,33.565,32.32,33.63,30.183,32.447,36.072,32.899,34.906,35.056,34.644,44.133,35.223,43.567,36.111,32.897,34.267],\"locationmode\":\"USA-states\",\"lon\":[-110.956,-87.186,-98.484,-81.202,-86.745,-90.078,-84.442,-97.68,-93.824,-115.163,-80.041,-82.213,-89.986,-86.786,-123.216,-80.954,-116.241,-86.688,-97.022,-77.9],\"marker\":{\"color\":\"yellow\",\"line\":{\"color\":\"rgb(40,40,40)\",\"width\":0.5},\"size\":[3,3,5,5,6,6,7,7,7,7,8,9,9,9,9,10,11,11,11,12],\"sizemode\":\"area\"},\"name\":\"20 - 40\",\"text\":[\"TUCSON INTERNATIONAL AIRPORT\\u003cbr\\u003ePressureDays 3\",\"PENSACOLA REGIONAL AIRPORT\\u003cbr\\u003ePressureDays 3\",\"SAN ANTONIO INTERNATIONAL AIRPORT\\u003cbr\\u003ePressureDays 5\",\"SAVANNAH\\u002fHILTON HEAD INTL AIRPORT\\u003cbr\\u003ePressureDays 5\",\"BIRMINGHAM INTERNATIONAL AIRPORT\\u003cbr\\u003ePressureDays 6\",\"JACKSON INTERNATIONAL AIRPORT\\u003cbr\\u003ePressureDays 6\",\"HARTSFIELD-JACKSON ATLANTA INTL AP\\u003cbr\\u003ePressureDays 7\",\"AUSTIN-BERGSTROM INTL AIRPORT\\u003cbr\\u003ePressureDays 7\",\"SHREVEPORT REGIONAL AIRPORT\\u003cbr\\u003ePressureDays 7\",\"MCCARRAN INTERNATIONAL AIRPORT\\u003cbr\\u003ePressureDays 7\",\"CHARLESTON AFB\\u002fINTERNATIONAL AIRPORT\\u003cbr\\u003ePressureDays 8\",\"GREENVILLE-SPARTANBURG INTL AIRPORT\\u003cbr\\u003ePressureDays 9\",\"MEMPHIS INTERNATIONAL AIRPORT\\u003cbr\\u003ePressureDays 9\",\"HUNTSVILLE INTL\\u002fC.T.JONES FIELD AIRPORT\\u003cbr\\u003ePressureDays 9\",\"MAHLON SWEET FIELD AIRPORT\\u003cbr\\u003ePressureDays 9\",\"CHARLOTTE\\u002fDOUGLAS INTERNATIONAL AP\\u003cbr\\u003ePressureDays 10\",\"BOISE AIR TERMINAL\\u002fGOWEN FD AIRPORT\\u003cbr\\u003ePressureDays 11\",\"NASHVILLE INTERNATIONAL AIRPORT\\u003cbr\\u003ePressureDays 11\",\"DALLAS\\u002fFT WORTH INTERNATIONAL AP\\u003cbr\\u003ePressureDays 11\",\"WILMINGTON INTERNATIONAL AIRPORT\\u003cbr\\u003ePressureDays 12\"],\"type\":\"scattergeo\"},{\"lat\":[34.917,45.596,36.097,39.508,40.771,31.812,35.892,47.622,38.177,38.38,47.445,35.388,39.044,38.817,39.725,38.137,39.991,36.199,38.752,36.904],\"locationmode\":\"USA-states\",\"lon\":[-92.15,-122.609,-79.943,-119.768,-111.965,-106.377,-78.782,-117.528,-85.731,-81.591,-122.314,-97.6,-84.672,-76.867,-86.282,-78.455,-82.877,-95.878,-90.373,-76.193],\"marker\":{\"color\":\"green\",\"line\":{\"color\":\"rgb(40,40,40)\",\"width\":0.5},\"size\":[12,13,13,13,16,16,16,17,17,18,18,18,19,20,21,21,21,21,22,23],\"sizemode\":\"area\"},\"name\":\"40 - 60\",\"text\":[\"LITTLE ROCK AFB AIRPORT\\u003cbr\\u003ePressureDays 12\",\"PORTLAND INTERNATIONAL AIRPORT\\u003cbr\\u003ePressureDays 13\",\"PIEDMONT TRIAD INTERNATIONAL AIRPORT\\u003cbr\\u003ePressureDays 13\",\"RENO\\u002fTAHOE INTERNATIONAL AIRPORT\\u003cbr\\u003ePressureDays 13\",\"SALT LAKE CITY INTERNATIONAL AIRPORT\\u003cbr\\u003ePressureDays 16\",\"EL PASO INTERNATIONAL AIRPORT\\u003cbr\\u003ePressureDays 16\",\"RALEIGH-DURHAM INTERNATIONAL AP\\u003cbr\\u003ePressureDays 16\",\"SPOKANE INTERNATIONAL AIRPORT\\u003cbr\\u003ePressureDays 17\",\"LOUISVILLE INTL-STANDIFORD FIELD AP\\u003cbr\\u003ePressureDays 17\",\"YEAGER AIRPORT\\u003cbr\\u003ePressureDays 18\",\"SEATTLE-TACOMA INTERNATIONAL AIRPORT\\u003cbr\\u003ePressureDays 18\",\"WILL ROGERS WORLD AIRPORT\\u003cbr\\u003ePressureDays 18\",\"CINCINNATI\\u002fNORTHERN KENTUCKY INTL AP\\u003cbr\\u003ePressureDays 19\",\"ANDREWS AIR FORCE BASE AIRPORT\\u003cbr\\u003ePressureDays 20\",\"INDIANAPOLIS INTERNATIONAL AIRPORT\\u003cbr\\u003ePressureDays 21\",\"CHARLOTTESVILLE ALBEMARLE ARPT\\u003cbr\\u003ePressureDays 21\",\"PORT COLUMBUS INTERNATIONAL AIRPORT\\u003cbr\\u003ePressureDays 21\",\"TULSA INTERNATIONAL AIRPORT\\u003cbr\\u003ePressureDays 21\",\"LAMBERT-ST LOUIS INTERNATIONAL AP\\u003cbr\\u003ePressureDays 22\",\"NORFOLK INTERNATIONAL AIRPORT\\u003cbr\\u003ePressureDays 23\"],\"type\":\"scattergeo\"},{\"lat\":[37.512,39.906,37.132,40.485,38.935,39.297,64.803,40.972,45.807,39.845,38.847,39.173,40.196,37.648,41.406,39.873,45.788,42.882,41.96,58.354],\"locationmode\":\"USA-states\",\"lon\":[-77.323,-84.219,-76.494,-80.214,-77.447,-94.731,-147.876,-85.206,-108.546,-89.684,-77.035,-76.684,-76.772,-97.43,-81.852,-75.227,-111.162,-85.523,-87.932,-134.556],\"marker\":{\"color\":\"red\",\"line\":{\"color\":\"rgb(40,40,40)\",\"width\":0.5},\"size\":[23,23,23,24,24,24,25,25,26,26,26,26,26,27,28,29,29,30,30,31],\"sizemode\":\"area\"},\"name\":\"60 - 80\",\"text\":[\"RICHMOND INTERNATIONAL AIRPORT\\u003cbr\\u003ePressureDays 23\",\"J.M.COX DAYTON INTERNATIONAL AIRPORT\\u003cbr\\u003ePressureDays 23\",\"NWPT NEWS\\u002fWIMBURG INTL APT\\u003cbr\\u003ePressureDays 23\",\"PITTSBURGH INTERNATIONAL AIRPORT\\u003cbr\\u003ePressureDays 24\",\"WASHINGTON DULLES INTERNATIONAL AP\\u003cbr\\u003ePressureDays 24\",\"KANSAS CITY INTERNATIONAL AIRPORT\\u003cbr\\u003ePressureDays 24\",\"FAIRBANKS INTERNATIONAL\\u003cbr\\u003ePressureDays 25\",\"FORT WAYNE INTERNATIONAL AIRPORT\\u003cbr\\u003ePressureDays 25\",\"BILLINGS LOGAN INTERNATIONAL AIRPORT\\u003cbr\\u003ePressureDays 26\",\"ABRAHAM LINCOLN CAPITAL AIRPORT\\u003cbr\\u003ePressureDays 26\",\"RONALD REAGAN WASHINGTON NATL AP\\u003cbr\\u003ePressureDays 26\",\"BALTIMORE-WASHINGTON INTL AIRPORT\\u003cbr\\u003ePressureDays 26\",\"HARRISBURG INTERNATIONAL AIRPORT\\u003cbr\\u003ePressureDays 26\",\"WICHITA EISENHOWER NATIONAL\\u003cbr\\u003ePressureDays 27\",\"CLEVELAND-HOPKINS INTERNATIONAL AP\\u003cbr\\u003ePressureDays 28\",\"PHILADELPHIA INTERNATIONAL AIRPORT\\u003cbr\\u003ePressureDays 29\",\"GALLATIN FIELD AIRPORT\\u003cbr\\u003ePressureDays 29\",\"GERALD R FORD INTERNATIONAL AIRPORT\\u003cbr\\u003ePressureDays 30\",\"CHICAGO O'HARE INTERNATIONAL AIRPORT\\u003cbr\\u003ePressureDays 30\",\"JUNEAU INTERNATIONAL\\u003cbr\\u003ePressureDays 31\"],\"type\":\"scattergeo\"},{\"lat\":[42.231,61.169,41.883,39.452,40.277,41.784,40.683,40.779,42.955,41.534,41.312,42.94,40.848,43.111,35.042,46.844,40.639,44.885,43.117,42.747],\"locationmode\":\"USA-states\",\"lon\":[-83.331,-150.028,-91.725,-74.567,-74.816,-87.755,-74.169,-73.88,-87.905,-93.653,-95.902,-78.736,-96.765,-76.104,-106.615,-92.187,-73.764,-93.231,-77.675,-73.799],\"marker\":{\"color\":\"blue\",\"line\":{\"color\":\"rgb(40,40,40)\",\"width\":0.5},\"size\":[31,31,31,31,31,31,33,33,33,33,33,34,35,35,35,35,35,35,36,36],\"sizemode\":\"area\"},\"name\":\"80 - 100\",\"text\":[\"DETROIT METRO WAYNE COUNTY AIRPORT\\u003cbr\\u003ePressureDays 31\",\"TED STEVENS ANCHORAGE INTL\\u003cbr\\u003ePressureDays 31\",\"EASTERN IOWA REGIONAL AIRPORT\\u003cbr\\u003ePressureDays 31\",\"ATLANTIC CITY INTERNATIONAL AIRPORT\\u003cbr\\u003ePressureDays 31\",\"TRENTON MERCER AIRPORT\\u003cbr\\u003ePressureDays 31\",\"CHICAGO MIDWAY INTL ARPT\\u003cbr\\u003ePressureDays 31\",\"NEWARK LIBERTY INTERNATIONAL AP\\u003cbr\\u003ePressureDays 33\",\"LA GUARDIA AIRPORT\\u003cbr\\u003ePressureDays 33\",\"GENERAL MITCHELL INTERNATIONAL AP\\u003cbr\\u003ePressureDays 33\",\"DES MOINES INTERNATIONAL AIRPORT\\u003cbr\\u003ePressureDays 33\",\"EPPLEY AIRFIELD AIRPORT\\u003cbr\\u003ePressureDays 33\",\"BUFFALO NIAGARA INTERNATIONAL AP\\u003cbr\\u003ePressureDays 34\",\"LINCOLN MUNICIPAL AIRPORT\\u003cbr\\u003ePressureDays 35\",\"SYRACUSE HANCOCK INTERNATIONAL AP\\u003cbr\\u003ePressureDays 35\",\"ALBUQUERQUE INTL SUNPORT AIRPORT\\u003cbr\\u003ePressureDays 35\",\"DULUTH INTERNATIONAL AIRPORT\\u003cbr\\u003ePressureDays 35\",\"JOHN F KENNEDY INTERNATIONAL AIRPORT\\u003cbr\\u003ePressureDays 35\",\"MINNEAPOLIS-ST PAUL INTERNATIONAL AP\\u003cbr\\u003ePressureDays 35\",\"GREATER ROCHESTER INTERNATIONAL AP\\u003cbr\\u003ePressureDays 36\",\"ALBANY INTERNATIONAL AIRPORT\\u003cbr\\u003ePressureDays 36\"],\"type\":\"scattergeo\"},{\"lat\":[43.578,44.48,41.937,42.898,41.723,44.468,46.924,42.93,42.361,39.847,43.642,38.809],\"locationmode\":\"USA-states\",\"lon\":[-96.754,-88.137,-72.682,-106.474,-71.432,-73.15,-96.812,-71.436,-71.01,-104.656,-70.304,-104.689],\"marker\":{\"color\":\"purple\",\"line\":{\"color\":\"rgb(40,40,40)\",\"width\":0.5},\"size\":[36,37,37,38,41,41,41,43,43,46,48,57],\"sizemode\":\"area\"},\"name\":\"100 - 120\",\"text\":[\"JOE FOSS FIELD AIRPORT\\u003cbr\\u003ePressureDays 36\",\"AUSTIN STRAUBEL INTERNATIONAL AP\\u003cbr\\u003ePressureDays 37\",\"BRADLEY INTERNATIONAL AIRPORT\\u003cbr\\u003ePressureDays 37\",\"NATRONA COUNTY INTERNATIONAL AP\\u003cbr\\u003ePressureDays 38\",\"THEODORE F GREEN STATE AIRPORT\\u003cbr\\u003ePressureDays 41\",\"BURLINGTON INTERNATIONAL AIRPORT\\u003cbr\\u003ePressureDays 41\",\"HECTOR INTERNATIONAL AIRPORT\\u003cbr\\u003ePressureDays 41\",\"MANCHESTER AIRPORT\\u003cbr\\u003ePressureDays 43\",\"GEN E L LOGAN INTERNATIONAL AIRPORT\\u003cbr\\u003ePressureDays 43\",\"DENVER INTERNATIONAL AIRPORT\\u003cbr\\u003ePressureDays 46\",\"PORTLAND INTERNATIONAL JETPORT AP\\u003cbr\\u003ePressureDays 48\",\"CITY OF COLORADO SPRINGS MUNICIPAL AP\\u003cbr\\u003ePressureDays 57\"],\"type\":\"scattergeo\"}],                        {\"template\":{\"data\":{\"histogram2dcontour\":[{\"type\":\"histogram2dcontour\",\"colorbar\":{\"outlinewidth\":0,\"ticks\":\"\"},\"colorscale\":[[0.0,\"#0d0887\"],[0.1111111111111111,\"#46039f\"],[0.2222222222222222,\"#7201a8\"],[0.3333333333333333,\"#9c179e\"],[0.4444444444444444,\"#bd3786\"],[0.5555555555555556,\"#d8576b\"],[0.6666666666666666,\"#ed7953\"],[0.7777777777777778,\"#fb9f3a\"],[0.8888888888888888,\"#fdca26\"],[1.0,\"#f0f921\"]]}],\"choropleth\":[{\"type\":\"choropleth\",\"colorbar\":{\"outlinewidth\":0,\"ticks\":\"\"}}],\"histogram2d\":[{\"type\":\"histogram2d\",\"colorbar\":{\"outlinewidth\":0,\"ticks\":\"\"},\"colorscale\":[[0.0,\"#0d0887\"],[0.1111111111111111,\"#46039f\"],[0.2222222222222222,\"#7201a8\"],[0.3333333333333333,\"#9c179e\"],[0.4444444444444444,\"#bd3786\"],[0.5555555555555556,\"#d8576b\"],[0.6666666666666666,\"#ed7953\"],[0.7777777777777778,\"#fb9f3a\"],[0.8888888888888888,\"#fdca26\"],[1.0,\"#f0f921\"]]}],\"heatmap\":[{\"type\":\"heatmap\",\"colorbar\":{\"outlinewidth\":0,\"ticks\":\"\"},\"colorscale\":[[0.0,\"#0d0887\"],[0.1111111111111111,\"#46039f\"],[0.2222222222222222,\"#7201a8\"],[0.3333333333333333,\"#9c179e\"],[0.4444444444444444,\"#bd3786\"],[0.5555555555555556,\"#d8576b\"],[0.6666666666666666,\"#ed7953\"],[0.7777777777777778,\"#fb9f3a\"],[0.8888888888888888,\"#fdca26\"],[1.0,\"#f0f921\"]]}],\"heatmapgl\":[{\"type\":\"heatmapgl\",\"colorbar\":{\"outlinewidth\":0,\"ticks\":\"\"},\"colorscale\":[[0.0,\"#0d0887\"],[0.1111111111111111,\"#46039f\"],[0.2222222222222222,\"#7201a8\"],[0.3333333333333333,\"#9c179e\"],[0.4444444444444444,\"#bd3786\"],[0.5555555555555556,\"#d8576b\"],[0.6666666666666666,\"#ed7953\"],[0.7777777777777778,\"#fb9f3a\"],[0.8888888888888888,\"#fdca26\"],[1.0,\"#f0f921\"]]}],\"contourcarpet\":[{\"type\":\"contourcarpet\",\"colorbar\":{\"outlinewidth\":0,\"ticks\":\"\"}}],\"contour\":[{\"type\":\"contour\",\"colorbar\":{\"outlinewidth\":0,\"ticks\":\"\"},\"colorscale\":[[0.0,\"#0d0887\"],[0.1111111111111111,\"#46039f\"],[0.2222222222222222,\"#7201a8\"],[0.3333333333333333,\"#9c179e\"],[0.4444444444444444,\"#bd3786\"],[0.5555555555555556,\"#d8576b\"],[0.6666666666666666,\"#ed7953\"],[0.7777777777777778,\"#fb9f3a\"],[0.8888888888888888,\"#fdca26\"],[1.0,\"#f0f921\"]]}],\"surface\":[{\"type\":\"surface\",\"colorbar\":{\"outlinewidth\":0,\"ticks\":\"\"},\"colorscale\":[[0.0,\"#0d0887\"],[0.1111111111111111,\"#46039f\"],[0.2222222222222222,\"#7201a8\"],[0.3333333333333333,\"#9c179e\"],[0.4444444444444444,\"#bd3786\"],[0.5555555555555556,\"#d8576b\"],[0.6666666666666666,\"#ed7953\"],[0.7777777777777778,\"#fb9f3a\"],[0.8888888888888888,\"#fdca26\"],[1.0,\"#f0f921\"]]}],\"mesh3d\":[{\"type\":\"mesh3d\",\"colorbar\":{\"outlinewidth\":0,\"ticks\":\"\"}}],\"scatter\":[{\"fillpattern\":{\"fillmode\":\"overlay\",\"size\":10,\"solidity\":0.2},\"type\":\"scatter\"}],\"parcoords\":[{\"type\":\"parcoords\",\"line\":{\"colorbar\":{\"outlinewidth\":0,\"ticks\":\"\"}}}],\"scatterpolargl\":[{\"type\":\"scatterpolargl\",\"marker\":{\"colorbar\":{\"outlinewidth\":0,\"ticks\":\"\"}}}],\"bar\":[{\"error_x\":{\"color\":\"#2a3f5f\"},\"error_y\":{\"color\":\"#2a3f5f\"},\"marker\":{\"line\":{\"color\":\"#E5ECF6\",\"width\":0.5},\"pattern\":{\"fillmode\":\"overlay\",\"size\":10,\"solidity\":0.2}},\"type\":\"bar\"}],\"scattergeo\":[{\"type\":\"scattergeo\",\"marker\":{\"colorbar\":{\"outlinewidth\":0,\"ticks\":\"\"}}}],\"scatterpolar\":[{\"type\":\"scatterpolar\",\"marker\":{\"colorbar\":{\"outlinewidth\":0,\"ticks\":\"\"}}}],\"histogram\":[{\"marker\":{\"pattern\":{\"fillmode\":\"overlay\",\"size\":10,\"solidity\":0.2}},\"type\":\"histogram\"}],\"scattergl\":[{\"type\":\"scattergl\",\"marker\":{\"colorbar\":{\"outlinewidth\":0,\"ticks\":\"\"}}}],\"scatter3d\":[{\"type\":\"scatter3d\",\"line\":{\"colorbar\":{\"outlinewidth\":0,\"ticks\":\"\"}},\"marker\":{\"colorbar\":{\"outlinewidth\":0,\"ticks\":\"\"}}}],\"scattermapbox\":[{\"type\":\"scattermapbox\",\"marker\":{\"colorbar\":{\"outlinewidth\":0,\"ticks\":\"\"}}}],\"scatterternary\":[{\"type\":\"scatterternary\",\"marker\":{\"colorbar\":{\"outlinewidth\":0,\"ticks\":\"\"}}}],\"scattercarpet\":[{\"type\":\"scattercarpet\",\"marker\":{\"colorbar\":{\"outlinewidth\":0,\"ticks\":\"\"}}}],\"carpet\":[{\"aaxis\":{\"endlinecolor\":\"#2a3f5f\",\"gridcolor\":\"white\",\"linecolor\":\"white\",\"minorgridcolor\":\"white\",\"startlinecolor\":\"#2a3f5f\"},\"baxis\":{\"endlinecolor\":\"#2a3f5f\",\"gridcolor\":\"white\",\"linecolor\":\"white\",\"minorgridcolor\":\"white\",\"startlinecolor\":\"#2a3f5f\"},\"type\":\"carpet\"}],\"table\":[{\"cells\":{\"fill\":{\"color\":\"#EBF0F8\"},\"line\":{\"color\":\"white\"}},\"header\":{\"fill\":{\"color\":\"#C8D4E3\"},\"line\":{\"color\":\"white\"}},\"type\":\"table\"}],\"barpolar\":[{\"marker\":{\"line\":{\"color\":\"#E5ECF6\",\"width\":0.5},\"pattern\":{\"fillmode\":\"overlay\",\"size\":10,\"solidity\":0.2}},\"type\":\"barpolar\"}],\"pie\":[{\"automargin\":true,\"type\":\"pie\"}]},\"layout\":{\"autotypenumbers\":\"strict\",\"colorway\":[\"#636efa\",\"#EF553B\",\"#00cc96\",\"#ab63fa\",\"#FFA15A\",\"#19d3f3\",\"#FF6692\",\"#B6E880\",\"#FF97FF\",\"#FECB52\"],\"font\":{\"color\":\"#2a3f5f\"},\"hovermode\":\"closest\",\"hoverlabel\":{\"align\":\"left\"},\"paper_bgcolor\":\"white\",\"plot_bgcolor\":\"#E5ECF6\",\"polar\":{\"bgcolor\":\"#E5ECF6\",\"angularaxis\":{\"gridcolor\":\"white\",\"linecolor\":\"white\",\"ticks\":\"\"},\"radialaxis\":{\"gridcolor\":\"white\",\"linecolor\":\"white\",\"ticks\":\"\"}},\"ternary\":{\"bgcolor\":\"#E5ECF6\",\"aaxis\":{\"gridcolor\":\"white\",\"linecolor\":\"white\",\"ticks\":\"\"},\"baxis\":{\"gridcolor\":\"white\",\"linecolor\":\"white\",\"ticks\":\"\"},\"caxis\":{\"gridcolor\":\"white\",\"linecolor\":\"white\",\"ticks\":\"\"}},\"coloraxis\":{\"colorbar\":{\"outlinewidth\":0,\"ticks\":\"\"}},\"colorscale\":{\"sequential\":[[0.0,\"#0d0887\"],[0.1111111111111111,\"#46039f\"],[0.2222222222222222,\"#7201a8\"],[0.3333333333333333,\"#9c179e\"],[0.4444444444444444,\"#bd3786\"],[0.5555555555555556,\"#d8576b\"],[0.6666666666666666,\"#ed7953\"],[0.7777777777777778,\"#fb9f3a\"],[0.8888888888888888,\"#fdca26\"],[1.0,\"#f0f921\"]],\"sequentialminus\":[[0.0,\"#0d0887\"],[0.1111111111111111,\"#46039f\"],[0.2222222222222222,\"#7201a8\"],[0.3333333333333333,\"#9c179e\"],[0.4444444444444444,\"#bd3786\"],[0.5555555555555556,\"#d8576b\"],[0.6666666666666666,\"#ed7953\"],[0.7777777777777778,\"#fb9f3a\"],[0.8888888888888888,\"#fdca26\"],[1.0,\"#f0f921\"]],\"diverging\":[[0,\"#8e0152\"],[0.1,\"#c51b7d\"],[0.2,\"#de77ae\"],[0.3,\"#f1b6da\"],[0.4,\"#fde0ef\"],[0.5,\"#f7f7f7\"],[0.6,\"#e6f5d0\"],[0.7,\"#b8e186\"],[0.8,\"#7fbc41\"],[0.9,\"#4d9221\"],[1,\"#276419\"]]},\"xaxis\":{\"gridcolor\":\"white\",\"linecolor\":\"white\",\"ticks\":\"\",\"title\":{\"standoff\":15},\"zerolinecolor\":\"white\",\"automargin\":true,\"zerolinewidth\":2},\"yaxis\":{\"gridcolor\":\"white\",\"linecolor\":\"white\",\"ticks\":\"\",\"title\":{\"standoff\":15},\"zerolinecolor\":\"white\",\"automargin\":true,\"zerolinewidth\":2},\"scene\":{\"xaxis\":{\"backgroundcolor\":\"#E5ECF6\",\"gridcolor\":\"white\",\"linecolor\":\"white\",\"showbackground\":true,\"ticks\":\"\",\"zerolinecolor\":\"white\",\"gridwidth\":2},\"yaxis\":{\"backgroundcolor\":\"#E5ECF6\",\"gridcolor\":\"white\",\"linecolor\":\"white\",\"showbackground\":true,\"ticks\":\"\",\"zerolinecolor\":\"white\",\"gridwidth\":2},\"zaxis\":{\"backgroundcolor\":\"#E5ECF6\",\"gridcolor\":\"white\",\"linecolor\":\"white\",\"showbackground\":true,\"ticks\":\"\",\"zerolinecolor\":\"white\",\"gridwidth\":2}},\"shapedefaults\":{\"line\":{\"color\":\"#2a3f5f\"}},\"annotationdefaults\":{\"arrowcolor\":\"#2a3f5f\",\"arrowhead\":0,\"arrowwidth\":1},\"geo\":{\"bgcolor\":\"white\",\"landcolor\":\"#E5ECF6\",\"subunitcolor\":\"white\",\"showland\":true,\"showlakes\":true,\"lakecolor\":\"white\"},\"title\":{\"x\":0.05},\"mapbox\":{\"style\":\"light\"}}},\"title\":{\"text\":\"US Cities: Significant Decreases In Hourly Barometric Pressure\\u003cbr\\u003eBubble Map, Greater Size Indicates Higher Occurences\"},\"geo\":{\"scope\":\"usa\",\"landcolor\":\"rgb(217, 217, 217)\"},\"showlegend\":false},                        {\"responsive\": true}                    ).then(function(){\n",
       "                            \n",
       "var gd = document.getElementById('772155eb-acf6-4046-87e8-bb56acbecaf9');\n",
       "var x = new MutationObserver(function (mutations, observer) {{\n",
       "        var display = window.getComputedStyle(gd).display;\n",
       "        if (!display || display === 'none') {{\n",
       "            console.log([gd, 'removed!']);\n",
       "            Plotly.purge(gd);\n",
       "            observer.disconnect();\n",
       "        }}\n",
       "}});\n",
       "\n",
       "// Listen for the removal of the full notebook cells\n",
       "var notebookContainer = gd.closest('#notebook-container');\n",
       "if (notebookContainer) {{\n",
       "    x.observe(notebookContainer, {childList: true});\n",
       "}}\n",
       "\n",
       "// Listen for the clearing of the current output cell\n",
       "var outputEl = gd.closest('.output');\n",
       "if (outputEl) {{\n",
       "    x.observe(outputEl, {childList: true});\n",
       "}}\n",
       "\n",
       "                        })                };                });            </script>        </div>"
      ]
     },
     "metadata": {},
     "output_type": "display_data"
    }
   ],
   "source": [
    "limits = [(0,20),(20,40),(40,60),(60,80),(80,100),(100,120)]\n",
    "colors = [\"white\" , \"yellow\", \"green\", \"red\", \"blue\", \"purple\"]\n",
    "cities = []\n",
    "\n",
    "fig = go.Figure()\n",
    "\n",
    "for i in range(len(limits)):\n",
    "    lim = limits[i]\n",
    "    df_sub = df_map[lim[0]:lim[1]]\n",
    "    fig.add_trace(go.Scattergeo(\n",
    "        locationmode = 'USA-states',\n",
    "        lon = df_sub['lon'],\n",
    "        lat = df_sub['lat'],\n",
    "        text = df_sub['text'],\n",
    "        marker = dict(\n",
    "            size = df_sub['ttl_year_avg'],\n",
    "            color = colors[i],\n",
    "            line_color='rgb(40,40,40)',\n",
    "            line_width=0.5,\n",
    "            sizemode = 'area'\n",
    "        ),\n",
    "        name = '{0} - {1}'.format(lim[0],lim[1])))\n",
    "\n",
    "fig.update_layout(\n",
    "        title_text = f'US Cities: Significant Decreases In Hourly Barometric Pressure<br>Bubble Map, Greater Size Indicates Higher Occurences',\n",
    "        showlegend = False,\n",
    "        geo = dict(\n",
    "            scope = 'usa',\n",
    "            landcolor = 'rgb(217, 217, 217)',\n",
    "        )\n",
    "    )\n",
    "\n",
    "fig.show()\n"
   ]
  },
  {
   "cell_type": "code",
   "execution_count": 16,
   "metadata": {
    "pycharm": {
     "name": "#%%\n"
    }
   },
   "outputs": [
    {
     "data": {
      "text/plain": [
       "<Axes: xlabel='ttl_year_avg', ylabel='text'>"
      ]
     },
     "execution_count": 16,
     "metadata": {},
     "output_type": "execute_result"
    },
    {
     "data": {
      "image/png": "[encoded data removed]",
      "text/plain": [
       "<Figure size 640x480 with 1 Axes>"
      ]
     },
     "metadata": {},
     "output_type": "display_data"
    }
   ],
   "source": [
    "sns.violinplot(data=df_plot, x=\"ttl_year_avg\", y=\"text\")\n"
   ]
  },
  {
   "cell_type": "code",
   "execution_count": 29,
   "metadata": {},
   "outputs": [],
   "source": [
    "file = f\"USCityPressureDays_bubblemap.pdf\"\n",
    "fig.write_image(file, scale=2)\n"
   ]
  },
  {
   "cell_type": "code",
   "execution_count": null,
   "metadata": {
    "collapsed": false,
    "jupyter": {
     "outputs_hidden": false
    },
    "pycharm": {
     "name": "#%%\n"
    }
   },
   "outputs": [],
   "source": []
  },
  {
   "cell_type": "code",
   "execution_count": null,
   "metadata": {
    "collapsed": false,
    "jupyter": {
     "outputs_hidden": false
    },
    "pycharm": {
     "name": "#%%\n"
    }
   },
   "outputs": [],
   "source": []
  }
 ],
 "metadata": {
  "kernelspec": {
   "display_name": "Python 3 (ipykernel)",
   "language": "python",
   "name": "python3"
  },
  "language_info": {
   "codemirror_mode": {
    "name": "ipython",
    "version": 3
   },
   "file_extension": ".py",
   "mimetype": "text/x-python",
   "name": "python",
   "nbconvert_exporter": "python",
   "pygments_lexer": "ipython3",
   "version": "3.10.9"
  }
 },
 "nbformat": 4,
 "nbformat_minor": 4
}
